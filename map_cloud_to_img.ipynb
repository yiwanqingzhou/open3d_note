{
 "cells": [
  {
   "cell_type": "code",
   "execution_count": 1,
   "metadata": {},
   "outputs": [],
   "source": [
    "import open3d as o3d\n",
    "import numpy as np\n",
    "import cv2\n",
    "\n",
    "def extract_image_and_points(cloud, cloud_height, cloud_width, flip_rgb=False):\n",
    "    points = np.asarray(cloud.points)\n",
    "    color = np.asarray(cloud.colors) * 255\n",
    "    img = color.reshape((cloud_height, cloud_width, 3))\n",
    "    if flip_rgb:\n",
    "        img = img[:, :, ::-1].copy()\n",
    "    points = points.reshape((cloud_height, cloud_width, 3))\n",
    "    return img, points"
   ]
  },
  {
   "cell_type": "code",
   "execution_count": 2,
   "metadata": {},
   "outputs": [],
   "source": [
    "import os \n",
    "def traverse_files(rootDir): \n",
    "    files_list = []\n",
    "    list_dirs = os.walk(rootDir) \n",
    "\n",
    "    for root, dirs, files in list_dirs:    \n",
    "        for f in files:\n",
    "            files_list.append(os.path.join(root, f))\n",
    "    return files_list"
   ]
  },
  {
   "cell_type": "code",
   "execution_count": 3,
   "metadata": {},
   "outputs": [],
   "source": [
    "pcd_paths = traverse_files('/home/bot/dev/app/cbee_app/tote_full_facade/example/setup1/denoise/1A_14cm')\n",
    "\n",
    "for path in pcd_paths:\n",
    "    pcd = o3d.io.read_point_cloud(path, remove_nan_points=False)\n",
    "    if np.array(pcd.colors).size != 480*640*3:\n",
    "        continue\n",
    "\n",
    "    image, points = extract_image_and_points(pcd, 480, 640, True)\n",
    "    \n",
    "    (h, w) = image.shape[:2]\n",
    "    center = (w//2, h//2)\n",
    "    M = cv2.getRotationMatrix2D(center, 180, 1.0)\n",
    "    rotated = cv2.warpAffine(image, M, (w, h))\n",
    "\n",
    "    cv2.imwrite(path[:-3]+'png', rotated)\n",
    "#     break"
   ]
  },
  {
   "cell_type": "code",
   "execution_count": null,
   "metadata": {},
   "outputs": [],
   "source": []
  }
 ],
 "metadata": {
  "kernelspec": {
   "display_name": "Python 3",
   "language": "python",
   "name": "python3"
  },
  "language_info": {
   "codemirror_mode": {
    "name": "ipython",
    "version": 3
   },
   "file_extension": ".py",
   "mimetype": "text/x-python",
   "name": "python",
   "nbconvert_exporter": "python",
   "pygments_lexer": "ipython3",
   "version": "3.6.10"
  }
 },
 "nbformat": 4,
 "nbformat_minor": 4
}
