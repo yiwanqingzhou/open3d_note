{
 "cells": [
  {
   "cell_type": "markdown",
   "metadata": {},
   "source": [
    "## open3d 0.9.0"
   ]
  },
  {
   "cell_type": "code",
   "execution_count": 1,
   "metadata": {},
   "outputs": [],
   "source": [
    "import open3d as o3d\n",
    "import numpy as np"
   ]
  },
  {
   "cell_type": "code",
   "execution_count": 2,
   "metadata": {},
   "outputs": [
    {
     "name": "stdout",
     "output_type": "stream",
     "text": [
      "Help on package open3d:\n",
      "\n",
      "NAME\n",
      "    open3d\n",
      "\n",
      "DESCRIPTION\n",
      "    # ----------------------------------------------------------------------------\n",
      "    # -                        Open3D: www.open3d.org                            -\n",
      "    # ----------------------------------------------------------------------------\n",
      "    # The MIT License (MIT)\n",
      "    #\n",
      "    # Copyright (c) 2018 www.open3d.org\n",
      "    #\n",
      "    # Permission is hereby granted, free of charge, to any person obtaining a copy\n",
      "    # of this software and associated documentation files (the \"Software\"), to deal\n",
      "    # in the Software without restriction, including without limitation the rights\n",
      "    # to use, copy, modify, merge, publish, distribute, sublicense, and/or sell\n",
      "    # copies of the Software, and to permit persons to whom the Software is\n",
      "    # furnished to do so, subject to the following conditions:\n",
      "    #\n",
      "    # The above copyright notice and this permission notice shall be included in\n",
      "    # all copies or substantial portions of the Software.\n",
      "    #\n",
      "    # THE SOFTWARE IS PROVIDED \"AS IS\", WITHOUT WARRANTY OF ANY KIND, EXPRESS OR\n",
      "    # IMPLIED, INCLUDING BUT NOT LIMITED TO THE WARRANTIES OF MERCHANTABILITY,\n",
      "    # FITNESS FOR A PARTICULAR PURPOSE AND NONINFRINGEMENT. IN NO EVENT SHALL THE\n",
      "    # AUTHORS OR COPYRIGHT HOLDERS BE LIABLE FOR ANY CLAIM, DAMAGES OR OTHER\n",
      "    # LIABILITY, WHETHER IN AN ACTION OF CONTRACT, TORT OR OTHERWISE, ARISING\n",
      "    # FROM, OUT OF OR IN CONNECTION WITH THE SOFTWARE OR THE USE OR OTHER DEALINGS\n",
      "    # IN THE SOFTWARE.\n",
      "    # ----------------------------------------------------------------------------\n",
      "\n",
      "PACKAGE CONTENTS\n",
      "    j_visualizer\n",
      "    open3d\n",
      "\n",
      "SUBMODULES\n",
      "    camera\n",
      "    color_map\n",
      "    geometry\n",
      "    integration\n",
      "    io\n",
      "    odometry\n",
      "    registration\n",
      "    utility\n",
      "    visualization\n",
      "\n",
      "VERSION\n",
      "    0.9.0.0\n",
      "\n",
      "FILE\n",
      "    /home/bot/anaconda3/envs/temp/lib/python3.6/site-packages/open3d/__init__.py\n",
      "\n",
      "\n"
     ]
    }
   ],
   "source": [
    "help(o3d)"
   ]
  },
  {
   "cell_type": "markdown",
   "metadata": {},
   "source": [
    "\n"
   ]
  },
  {
   "cell_type": "markdown",
   "metadata": {},
   "source": [
    "### IO"
   ]
  },
  {
   "cell_type": "code",
   "execution_count": 3,
   "metadata": {},
   "outputs": [
    {
     "name": "stdout",
     "output_type": "stream",
     "text": [
      "Help on built-in function read_point_cloud in module open3d.open3d.io:\n",
      "\n",
      "read_point_cloud(...) method of builtins.PyCapsule instance\n",
      "    read_point_cloud(filename, format='auto', remove_nan_points=True, remove_infinite_points=True, print_progress=False)\n",
      "    \n",
      "    Function to read PointCloud from file\n",
      "    \n",
      "    Args:\n",
      "        filename (str): Path to file.\n",
      "        format (str, optional, default='auto'): The format of the input file. When not specified or set as ``auto``, the format is inferred from file extension name.\n",
      "        remove_nan_points (bool, optional, default=True): If true, all points that include a NaN are removed from the PointCloud.\n",
      "        remove_infinite_points (bool, optional, default=True): If true, all points that include an infinite value are removed from the PointCloud.\n",
      "        print_progress (bool, optional, default=False): If set to true a progress bar is visualized in the console\n",
      "    \n",
      "    Returns:\n",
      "        open3d.geometry.PointCloud\n",
      "\n"
     ]
    }
   ],
   "source": [
    "help(o3d.io.read_point_cloud)"
   ]
  },
  {
   "cell_type": "code",
   "execution_count": 2,
   "metadata": {},
   "outputs": [],
   "source": [
    "pcd = o3d.io.read_point_cloud(\"./data/cloud.pcd\")\n",
    "pcd_with_nan_points = o3d.io.read_point_cloud(\"./data/cloud.pcd\", remove_nan_points=False)\n",
    "pcd_with_infinite_points = o3d.io.read_point_cloud(\"./data/cloud.pcd\", remove_infinite_points=False)"
   ]
  },
  {
   "cell_type": "code",
   "execution_count": 6,
   "metadata": {},
   "outputs": [],
   "source": [
    "o3d.visualization.draw_geometries([pcd_with_nan_points])"
   ]
  },
  {
   "cell_type": "code",
   "execution_count": 25,
   "metadata": {},
   "outputs": [
    {
     "data": {
      "text/plain": [
       "609894"
      ]
     },
     "execution_count": 25,
     "metadata": {},
     "output_type": "execute_result"
    }
   ],
   "source": [
    "np.array(pcd.points).size"
   ]
  },
  {
   "cell_type": "code",
   "execution_count": 5,
   "metadata": {},
   "outputs": [
    {
     "name": "stdout",
     "output_type": "stream",
     "text": [
      "geometry::PointCloud with 203298 points.\n",
      "geometry::PointCloud with 307200 points.\n",
      "geometry::PointCloud with 203298 points.\n",
      "<class 'open3d.open3d.geometry.PointCloud'>\n"
     ]
    }
   ],
   "source": [
    "print(pcd)\n",
    "print(pcd_with_nan_points)\n",
    "print(pcd_with_infinite_points)\n",
    "\n",
    "print(type(pcd))"
   ]
  },
  {
   "cell_type": "code",
   "execution_count": 74,
   "metadata": {},
   "outputs": [
    {
     "data": {
      "text/plain": [
       "True"
      ]
     },
     "execution_count": 74,
     "metadata": {},
     "output_type": "execute_result"
    }
   ],
   "source": [
    "o3d.io.write_point_cloud(\"./data/cloud_out.pcd\", pcd)"
   ]
  },
  {
   "cell_type": "code",
   "execution_count": 4,
   "metadata": {},
   "outputs": [
    {
     "name": "stdout",
     "output_type": "stream",
     "text": [
      "geometry::TriangleMesh with 12060 points and 4020 triangles.\n",
      "<class 'open3d.open3d.geometry.TriangleMesh'>\n"
     ]
    }
   ],
   "source": [
    "model = o3d.io.read_triangle_mesh(\"./data/model.stl\")\n",
    "print(model)\n",
    "print(type(model))"
   ]
  },
  {
   "cell_type": "markdown",
   "metadata": {},
   "source": [
    "\n",
    "\n",
    "\n",
    "\n"
   ]
  },
  {
   "cell_type": "markdown",
   "metadata": {},
   "source": [
    "### PointCloud"
   ]
  },
  {
   "cell_type": "code",
   "execution_count": 19,
   "metadata": {
    "scrolled": true
   },
   "outputs": [
    {
     "name": "stdout",
     "output_type": "stream",
     "text": [
      "Help on class PointCloud in module open3d.open3d.geometry:\n",
      "\n",
      "class PointCloud(Geometry3D)\n",
      " |  PointCloud class. A point cloud consists of point coordinates, and optionally point colors and point normals.\n",
      " |  \n",
      " |  Method resolution order:\n",
      " |      PointCloud\n",
      " |      Geometry3D\n",
      " |      Geometry\n",
      " |      pybind11_builtins.pybind11_object\n",
      " |      builtins.object\n",
      " |  \n",
      " |  Methods defined here:\n",
      " |  \n",
      " |  __add__(...)\n",
      " |      __add__(self: open3d.open3d.geometry.PointCloud, arg0: open3d.open3d.geometry.PointCloud) -> open3d.open3d.geometry.PointCloud\n",
      " |  \n",
      " |  __copy__(...)\n",
      " |      __copy__(self: open3d.open3d.geometry.PointCloud) -> open3d.open3d.geometry.PointCloud\n",
      " |  \n",
      " |  __deepcopy__(...)\n",
      " |      __deepcopy__(self: open3d.open3d.geometry.PointCloud, arg0: dict) -> open3d.open3d.geometry.PointCloud\n",
      " |  \n",
      " |  __iadd__(...)\n",
      " |      __iadd__(self: open3d.open3d.geometry.PointCloud, arg0: open3d.open3d.geometry.PointCloud) -> open3d.open3d.geometry.PointCloud\n",
      " |  \n",
      " |  __init__(...)\n",
      " |      __init__(*args, **kwargs)\n",
      " |      Overloaded function.\n",
      " |      \n",
      " |      1. __init__(self: open3d.open3d.geometry.PointCloud) -> None\n",
      " |      \n",
      " |      Default constructor\n",
      " |      \n",
      " |      2. __init__(self: open3d.open3d.geometry.PointCloud, arg0: open3d.open3d.geometry.PointCloud) -> None\n",
      " |      \n",
      " |      Copy constructor\n",
      " |      \n",
      " |      3. __init__(self: open3d.open3d.geometry.PointCloud, points: open3d.open3d.utility.Vector3dVector) -> None\n",
      " |      \n",
      " |      Create a PointCloud from points\n",
      " |  \n",
      " |  __repr__(...)\n",
      " |      __repr__(self: open3d.open3d.geometry.PointCloud) -> str\n",
      " |  \n",
      " |  cluster_dbscan(...)\n",
      " |      cluster_dbscan(self, eps, min_points, print_progress=False)\n",
      " |      \n",
      " |      Cluster PointCloud using the DBSCAN algorithm  Ester et al., 'A Density-Based Algorithm for Discovering Clusters in Large Spatial Databases with Noise', 1996. Returns a list of point labels, -1 indicates noise according to the algorithm.\n",
      " |      \n",
      " |      Args:\n",
      " |          eps (float): Density parameter that is used to find neighbouring points.\n",
      " |          min_points (int): Minimum number of points to form a cluster.\n",
      " |          print_progress (bool, optional, default=False): If true the progress is visualized in the console.\n",
      " |      \n",
      " |      Returns:\n",
      " |          open3d.utility.IntVector\n",
      " |  \n",
      " |  compute_convex_hull(...)\n",
      " |      compute_convex_hull(self)\n",
      " |      \n",
      " |      Computes the convex hull of the point cloud.\n",
      " |      \n",
      " |      Returns:\n",
      " |          Tuple[open3d.geometry.TriangleMesh, List[int]]\n",
      " |  \n",
      " |  compute_mahalanobis_distance(...)\n",
      " |      compute_mahalanobis_distance(self)\n",
      " |      \n",
      " |      Function to compute the Mahalanobis distance for points in a point cloud. See: https://en.wikipedia.org/wiki/Mahalanobis_distance.\n",
      " |      \n",
      " |      Returns:\n",
      " |          open3d.utility.DoubleVector\n",
      " |  \n",
      " |  compute_mean_and_covariance(...)\n",
      " |      compute_mean_and_covariance(self)\n",
      " |      \n",
      " |      Function to compute the mean and covariance matrix of a point cloud.\n",
      " |      \n",
      " |      Returns:\n",
      " |          Tuple[numpy.ndarray[float64[3, 1]], numpy.ndarray[float64[3, 3]]]\n",
      " |  \n",
      " |  compute_nearest_neighbor_distance(...)\n",
      " |      compute_nearest_neighbor_distance(self)\n",
      " |      \n",
      " |      Function to compute the distance from a point to its nearest neighbor in the point cloud\n",
      " |      \n",
      " |      Returns:\n",
      " |          open3d.utility.DoubleVector\n",
      " |  \n",
      " |  compute_point_cloud_distance(...)\n",
      " |      compute_point_cloud_distance(self, target)\n",
      " |      \n",
      " |      For each point in the source point cloud, compute the distance to the target point cloud.\n",
      " |      \n",
      " |      Args:\n",
      " |          target (open3d.geometry.PointCloud): The target point cloud.\n",
      " |      \n",
      " |      Returns:\n",
      " |          open3d.utility.DoubleVector\n",
      " |  \n",
      " |  crop(...)\n",
      " |      crop(bounding_box, bounding_box)\n",
      " |      \n",
      " |      Function to crop input pointcloud into output pointcloud\n",
      " |      \n",
      " |      Args:\n",
      " |          bounding_box (open3d.geometry.AxisAlignedBoundingBox) ): AxisAlignedBoundingBox to crop points\n",
      " |          bounding_box (open3d.geometry.OrientedBoundingBox): AxisAlignedBoundingBox to crop points\n",
      " |      \n",
      " |      Returns:\n",
      " |          open3d.geometry.PointCloud\n",
      " |  \n",
      " |  estimate_normals(...)\n",
      " |      estimate_normals(self, search_param=geometry::KDTreeSearchParamKNN with knn = 30, fast_normal_computation=True)\n",
      " |      \n",
      " |      Function to compute the normals of a point cloud. Normals are oriented with respect to the input point cloud if normals exist\n",
      " |      \n",
      " |      Args:\n",
      " |          search_param (open3d.geometry.KDTreeSearchParam, optional, default=geometry::KDTreeSearchParamKNN with knn = 30): The KDTree search parameters for neighborhood search.\n",
      " |          fast_normal_computation (bool, optional, default=True): If true, the normal estiamtion uses a non-iterative method to extract the eigenvector from the covariance matrix. This is faster, but is not as numerical stable.\n",
      " |      \n",
      " |      Returns:\n",
      " |          bool\n",
      " |  \n",
      " |  has_colors(...)\n",
      " |      has_colors(self)\n",
      " |      \n",
      " |      Returns ``True`` if the point cloud contains point colors.\n",
      " |      \n",
      " |      Returns:\n",
      " |          bool\n",
      " |  \n",
      " |  has_normals(...)\n",
      " |      has_normals(self)\n",
      " |      \n",
      " |      Returns ``True`` if the point cloud contains point normals.\n",
      " |      \n",
      " |      Returns:\n",
      " |          bool\n",
      " |  \n",
      " |  has_points(...)\n",
      " |      has_points(self)\n",
      " |      \n",
      " |      Returns ``True`` if the point cloud contains points.\n",
      " |      \n",
      " |      Returns:\n",
      " |          bool\n",
      " |  \n",
      " |  hidden_point_removal(...)\n",
      " |      hidden_point_removal(self, camera_location, radius)\n",
      " |      \n",
      " |      Removes hidden points from a point cloud and returns a mesh of the remaining points. Based on Katz et al. 'Direct Visibility of Point Sets', 2007.\n",
      " |      \n",
      " |      Args:\n",
      " |          camera_location (numpy.ndarray[float64[3, 1]]): All points not visible from that location will be reomved\n",
      " |          radius (float): The radius of the sperical projection\n",
      " |      \n",
      " |      Returns:\n",
      " |          Tuple[open3d.geometry.TriangleMesh, List[int]]\n",
      " |  \n",
      " |  normalize_normals(...)\n",
      " |      normalize_normals(self)\n",
      " |      \n",
      " |      Normalize point normals to length 1.\n",
      " |      \n",
      " |      Returns:\n",
      " |          open3d.geometry.PointCloud\n",
      " |  \n",
      " |  orient_normals_to_align_with_direction(...)\n",
      " |      orient_normals_to_align_with_direction(self, orientation_reference=array([0., 0., 1.]))\n",
      " |      \n",
      " |      Function to orient the normals of a point cloud\n",
      " |      \n",
      " |      Args:\n",
      " |          orientation_reference (numpy.ndarray[float64[3, 1]], optional, default=array([0., 0., 1.])): Normals are oriented with respect to orientation_reference.\n",
      " |      \n",
      " |      Returns:\n",
      " |          bool\n",
      " |  \n",
      " |  orient_normals_towards_camera_location(...)\n",
      " |      orient_normals_towards_camera_location(self, camera_location=array([0., 0., 0.]))\n",
      " |      \n",
      " |      Function to orient the normals of a point cloud\n",
      " |      \n",
      " |      Args:\n",
      " |          camera_location (numpy.ndarray[float64[3, 1]], optional, default=array([0., 0., 0.])): Normals are oriented with towards the camera_location.\n",
      " |      \n",
      " |      Returns:\n",
      " |          bool\n",
      " |  \n",
      " |  paint_uniform_color(...)\n",
      " |      paint_uniform_color(self, color)\n",
      " |      \n",
      " |      Assigns each point in the PointCloud the same color.\n",
      " |      \n",
      " |      Args:\n",
      " |          color (numpy.ndarray[float64[3, 1]]): RGB color for the PointCloud.\n",
      " |      \n",
      " |      Returns:\n",
      " |          open3d.geometry.PointCloud\n",
      " |  \n",
      " |  remove_none_finite_points(...)\n",
      " |      remove_none_finite_points(self, remove_nan=True, remove_infinite=True)\n",
      " |      \n",
      " |      Function to remove none-finite points from the PointCloud\n",
      " |      \n",
      " |      Args:\n",
      " |          remove_nan (bool, optional, default=True): Remove NaN values from the PointCloud\n",
      " |          remove_infinite (bool, optional, default=True): Remove infinite values from the PointCloud\n",
      " |      \n",
      " |      Returns:\n",
      " |          open3d.geometry.PointCloud\n",
      " |  \n",
      " |  remove_radius_outlier(...)\n",
      " |      remove_radius_outlier(self, nb_points, radius)\n",
      " |      \n",
      " |      Function to remove points that have less than nb_points in a given sphere of a given radius\n",
      " |      \n",
      " |      Args:\n",
      " |          nb_points (int): Number of points within the radius.\n",
      " |          radius (float): Radius of the sphere.\n",
      " |      \n",
      " |      Returns:\n",
      " |          Tuple[open3d.geometry.PointCloud, List[int]]\n",
      " |  \n",
      " |  remove_statistical_outlier(...)\n",
      " |      remove_statistical_outlier(self, nb_neighbors, std_ratio)\n",
      " |      \n",
      " |      Function to remove points that are further away from their neighbors in average\n",
      " |      \n",
      " |      Args:\n",
      " |          nb_neighbors (int): Number of neighbors around the target point.\n",
      " |          std_ratio (float): Standard deviation ratio.\n",
      " |      \n",
      " |      Returns:\n",
      " |          Tuple[open3d.geometry.PointCloud, List[int]]\n",
      " |  \n",
      " |  segment_plane(...)\n",
      " |      segment_plane(self, distance_threshold, ransac_n, num_iterations)\n",
      " |      \n",
      " |      Segments a plane in the point cloud using the RANSAC algorithm.\n",
      " |      \n",
      " |      Args:\n",
      " |          distance_threshold (float): Max distance a point can be from the plane model, and still be considered an inlier.\n",
      " |          ransac_n (int): Number of initial points to be considered inliers in each iteration.\n",
      " |          num_iterations (int): Number of iterations.\n",
      " |      \n",
      " |      Returns:\n",
      " |          Tuple[numpy.ndarray[float64[4, 1]], List[int]]\n",
      " |  \n",
      " |  select_down_sample(...)\n",
      " |      select_down_sample(self, indices, invert=False)\n",
      " |      \n",
      " |      Function to select points from input pointcloud into output pointcloud. ``indices``: Indices of points to be selected. ``invert``: Set to ``True`` to invert the selection of indices.\n",
      " |      \n",
      " |      Args:\n",
      " |          indices (List[int]): Indices of points to be selected.\n",
      " |          invert (bool, optional, default=False): Set to ``True`` to invert the selection of indices.\n",
      " |      \n",
      " |      Returns:\n",
      " |          open3d.geometry.PointCloud\n",
      " |  \n",
      " |  uniform_down_sample(...)\n",
      " |      uniform_down_sample(self, every_k_points)\n",
      " |      \n",
      " |      Function to downsample input pointcloud into output pointcloud uniformly. The sample is performed in the order of the points with the 0-th point always chosen, not at random.\n",
      " |      \n",
      " |      Args:\n",
      " |          every_k_points (int): Sample rate, the selected point indices are [0, k, 2k, ...]\n",
      " |      \n",
      " |      Returns:\n",
      " |          open3d.geometry.PointCloud\n",
      " |  \n",
      " |  voxel_down_sample(...)\n",
      " |      voxel_down_sample(self, voxel_size)\n",
      " |      \n",
      " |      Function to downsample input pointcloud into output pointcloud with a voxel\n",
      " |      \n",
      " |      Args:\n",
      " |          voxel_size (float): Voxel size to downsample into.\n",
      " |      \n",
      " |      Returns:\n",
      " |          open3d.geometry.PointCloud\n",
      " |  \n",
      " |  voxel_down_sample_and_trace(...)\n",
      " |      voxel_down_sample_and_trace(self, voxel_size, min_bound, max_bound, approximate_class=False)\n",
      " |      \n",
      " |      Function to downsample using geometry.PointCloud.VoxelDownSample also records point cloud index before downsampling\n",
      " |      \n",
      " |      Args:\n",
      " |          voxel_size (float): Voxel size to downsample into.\n",
      " |          min_bound (numpy.ndarray[float64[3, 1]]): Minimum coordinate of voxel boundaries\n",
      " |          max_bound (numpy.ndarray[float64[3, 1]]): Maximum coordinate of voxel boundaries\n",
      " |          approximate_class (bool, optional, default=False)\n",
      " |      \n",
      " |      Returns:\n",
      " |          Tuple[open3d.geometry.PointCloud, numpy.ndarray[int32[m, n]]]\n",
      " |  \n",
      " |  ----------------------------------------------------------------------\n",
      " |  Static methods defined here:\n",
      " |  \n",
      " |  create_from_depth_image(...) from builtins.PyCapsule\n",
      " |      create_from_depth_image(depth, intrinsic, extrinsic=(with default value), depth_scale=1000.0, depth_trunc=1000.0, stride=1)\n",
      " |      \n",
      " |      Factory function to create a pointcloud from a depth image and a\n",
      " |              camera. Given depth value d at (u, v) image coordinate, the corresponding 3d\n",
      " |              point is:\n",
      " |      \n",
      " |                    - z = d / depth_scale\n",
      " |                    - x = (u - cx) * z / fx\n",
      " |                    - y = (v - cy) * z / fy\n",
      " |      \n",
      " |      Args:\n",
      " |          depth (open3d.geometry.Image)\n",
      " |          intrinsic (open3d.camera.PinholeCameraIntrinsic)\n",
      " |          extrinsic (numpy.ndarray[float64[4, 4]], optional) Default value:\n",
      " |      \n",
      " |              array([[1., 0., 0., 0.],\n",
      " |              [0., 1., 0., 0.],\n",
      " |              [0., 0., 1., 0.],\n",
      " |              [0., 0., 0., 1.]])\n",
      " |          depth_scale (float, optional, default=1000.0)\n",
      " |          depth_trunc (float, optional, default=1000.0)\n",
      " |          stride (int, optional, default=1)\n",
      " |      \n",
      " |      Returns:\n",
      " |          open3d.geometry.PointCloud\n",
      " |  \n",
      " |  create_from_rgbd_image(...) from builtins.PyCapsule\n",
      " |      create_from_rgbd_image(image, intrinsic, extrinsic=(with default value))\n",
      " |      \n",
      " |      Factory function to create a pointcloud from an RGB-D image and a\n",
      " |              camera. Given depth value d at (u, v) image coordinate, the corresponding 3d\n",
      " |              point is:\n",
      " |      \n",
      " |                    - z = d / depth_scale\n",
      " |                    - x = (u - cx) * z / fx\n",
      " |                    - y = (v - cy) * z / fy\n",
      " |      \n",
      " |      Args:\n",
      " |          image (open3d.geometry.RGBDImage)\n",
      " |          intrinsic (open3d.camera.PinholeCameraIntrinsic)\n",
      " |          extrinsic (numpy.ndarray[float64[4, 4]], optional) Default value:\n",
      " |      \n",
      " |              array([[1., 0., 0., 0.],\n",
      " |              [0., 1., 0., 0.],\n",
      " |              [0., 0., 1., 0.],\n",
      " |              [0., 0., 0., 1.]])\n",
      " |      \n",
      " |      Returns:\n",
      " |          open3d.geometry.PointCloud\n",
      " |  \n",
      " |  ----------------------------------------------------------------------\n",
      " |  Data descriptors defined here:\n",
      " |  \n",
      " |  colors\n",
      " |      ``float64`` array of shape ``(num_points, 3)``, range ``[0, 1]`` , use ``numpy.asarray()`` to access data: RGB colors of points.\n",
      " |  \n",
      " |  normals\n",
      " |      ``float64`` array of shape ``(num_points, 3)``, use ``numpy.asarray()`` to access data: Points normals.\n",
      " |  \n",
      " |  points\n",
      " |      ``float64`` array of shape ``(num_points, 3)``, use ``numpy.asarray()`` to access data: Points coordinates.\n",
      " |  \n",
      " |  ----------------------------------------------------------------------\n",
      " |  Methods inherited from Geometry3D:\n",
      " |  \n",
      " |  get_axis_aligned_bounding_box(...)\n",
      " |      get_axis_aligned_bounding_box(self)\n",
      " |      \n",
      " |      Returns an axis-aligned bounding box of the geometry.\n",
      " |      \n",
      " |      Returns:\n",
      " |          open3d.geometry.AxisAlignedBoundingBox\n",
      " |  \n",
      " |  get_center(...)\n",
      " |      get_center(self)\n",
      " |      \n",
      " |      Returns the center of the geometry coordinates.\n",
      " |      \n",
      " |      Returns:\n",
      " |          numpy.ndarray[float64[3, 1]]\n",
      " |  \n",
      " |  get_max_bound(...)\n",
      " |      get_max_bound(self)\n",
      " |      \n",
      " |      Returns max bounds for geometry coordinates.\n",
      " |      \n",
      " |      Returns:\n",
      " |          numpy.ndarray[float64[3, 1]]\n",
      " |  \n",
      " |  get_min_bound(...)\n",
      " |      get_min_bound(self)\n",
      " |      \n",
      " |      Returns min bounds for geometry coordinates.\n",
      " |      \n",
      " |      Returns:\n",
      " |          numpy.ndarray[float64[3, 1]]\n",
      " |  \n",
      " |  get_oriented_bounding_box(...)\n",
      " |      get_oriented_bounding_box(self)\n",
      " |      \n",
      " |      Returns an oriented bounding box of the geometry.\n",
      " |      \n",
      " |      Returns:\n",
      " |          open3d.geometry.OrientedBoundingBox\n",
      " |  \n",
      " |  rotate(...)\n",
      " |      rotate(self, R, center=True)\n",
      " |      \n",
      " |      Apply rotation to the geometry coordinates and normals.\n",
      " |      \n",
      " |      Args:\n",
      " |          R (numpy.ndarray[float64[3, 3]]): The rotation matrix\n",
      " |          center (bool, optional, default=True): If true, then the rotation is applied to the centered geometry\n",
      " |      \n",
      " |      Returns:\n",
      " |          open3d.geometry.Geometry3D\n",
      " |  \n",
      " |  scale(...)\n",
      " |      scale(self, scale, center=True)\n",
      " |      \n",
      " |      Apply scaling to the geometry coordinates.\n",
      " |      \n",
      " |      Args:\n",
      " |          scale (float): The scale parameter that is multiplied to the points/vertices of the geometry\n",
      " |          center (bool, optional, default=True): If true, then the scale is applied to the centered geometry\n",
      " |      \n",
      " |      Returns:\n",
      " |          open3d.geometry.Geometry3D\n",
      " |  \n",
      " |  transform(...)\n",
      " |      transform(self, arg0)\n",
      " |      \n",
      " |      Apply transformation (4x4 matrix) to the geometry coordinates.\n",
      " |      \n",
      " |      Args:\n",
      " |          arg0 (numpy.ndarray[float64[4, 4]])\n",
      " |      \n",
      " |      Returns:\n",
      " |          open3d.geometry.Geometry3D\n",
      " |  \n",
      " |  translate(...)\n",
      " |      translate(self, translation, relative=True)\n",
      " |      \n",
      " |      Apply translation to the geometry coordinates.\n",
      " |      \n",
      " |      Args:\n",
      " |          translation (numpy.ndarray[float64[3, 1]]): A 3D vector to transform the geometry\n",
      " |          relative (bool, optional, default=True): If true, the translation vector is directly added to the geometry coordinates. Otherwise, the center is moved to the translation vector.\n",
      " |      \n",
      " |      Returns:\n",
      " |          open3d.geometry.Geometry3D\n",
      " |  \n",
      " |  ----------------------------------------------------------------------\n",
      " |  Static methods inherited from Geometry3D:\n",
      " |  \n",
      " |  get_rotation_matrix_from_axis_angle(...) from builtins.PyCapsule\n",
      " |      get_rotation_matrix_from_axis_angle(rotation: numpy.ndarray[float64[3, 1]]) -> numpy.ndarray[float64[3, 3]]\n",
      " |  \n",
      " |  get_rotation_matrix_from_quaternion(...) from builtins.PyCapsule\n",
      " |      get_rotation_matrix_from_quaternion(rotation: numpy.ndarray[float64[4, 1]]) -> numpy.ndarray[float64[3, 3]]\n",
      " |  \n",
      " |  get_rotation_matrix_from_xyz(...) from builtins.PyCapsule\n",
      " |      get_rotation_matrix_from_xyz(rotation: numpy.ndarray[float64[3, 1]]) -> numpy.ndarray[float64[3, 3]]\n",
      " |  \n",
      " |  get_rotation_matrix_from_xzy(...) from builtins.PyCapsule\n",
      " |      get_rotation_matrix_from_xzy(rotation: numpy.ndarray[float64[3, 1]]) -> numpy.ndarray[float64[3, 3]]\n",
      " |  \n",
      " |  get_rotation_matrix_from_yxz(...) from builtins.PyCapsule\n",
      " |      get_rotation_matrix_from_yxz(rotation: numpy.ndarray[float64[3, 1]]) -> numpy.ndarray[float64[3, 3]]\n",
      " |  \n",
      " |  get_rotation_matrix_from_yzx(...) from builtins.PyCapsule\n",
      " |      get_rotation_matrix_from_yzx(rotation: numpy.ndarray[float64[3, 1]]) -> numpy.ndarray[float64[3, 3]]\n",
      " |  \n",
      " |  get_rotation_matrix_from_zxy(...) from builtins.PyCapsule\n",
      " |      get_rotation_matrix_from_zxy(rotation: numpy.ndarray[float64[3, 1]]) -> numpy.ndarray[float64[3, 3]]\n",
      " |  \n",
      " |  get_rotation_matrix_from_zyx(...) from builtins.PyCapsule\n",
      " |      get_rotation_matrix_from_zyx(rotation: numpy.ndarray[float64[3, 1]]) -> numpy.ndarray[float64[3, 3]]\n",
      " |  \n",
      " |  ----------------------------------------------------------------------\n",
      " |  Methods inherited from Geometry:\n",
      " |  \n",
      " |  clear(...)\n",
      " |      clear(self)\n",
      " |      \n",
      " |      Clear all elements in the geometry.\n",
      " |      \n",
      " |      Returns:\n",
      " |          open3d.geometry.Geometry\n",
      " |  \n",
      " |  dimension(...)\n",
      " |      dimension(self)\n",
      " |      \n",
      " |      Returns whether the geometry is 2D or 3D.\n",
      " |      \n",
      " |      Returns:\n",
      " |          int\n",
      " |  \n",
      " |  get_geometry_type(...)\n",
      " |      get_geometry_type(self)\n",
      " |      \n",
      " |      Returns one of registered geometry types.\n",
      " |      \n",
      " |      Returns:\n",
      " |          open3d.geometry.Geometry.GeometryType\n",
      " |  \n",
      " |  is_empty(...)\n",
      " |      is_empty(self)\n",
      " |      \n",
      " |      Returns ``True`` iff the geometry is empty.\n",
      " |      \n",
      " |      Returns:\n",
      " |          bool\n",
      " |  \n",
      " |  ----------------------------------------------------------------------\n",
      " |  Data and other attributes inherited from Geometry:\n",
      " |  \n",
      " |  HalfEdgeTriangleMesh = Type.HalfEdgeTriangleMesh\n",
      " |  \n",
      " |  Image = Type.Image\n",
      " |  \n",
      " |  LineSet = Type.LineSet\n",
      " |  \n",
      " |  PointCloud = Type.PointCloud\n",
      " |  \n",
      " |  RGBDImage = Type.RGBDImage\n",
      " |  \n",
      " |  TetraMesh = Type.TetraMesh\n",
      " |  \n",
      " |  TriangleMesh = Type.TriangleMesh\n",
      " |  \n",
      " |  Type = <class 'open3d.open3d.geometry.Geometry.Type'>\n",
      " |      Enum class for Geometry types.\n",
      " |  \n",
      " |  Unspecified = Type.Unspecified\n",
      " |  \n",
      " |  VoxelGrid = Type.VoxelGrid\n",
      " |  \n",
      " |  ----------------------------------------------------------------------\n",
      " |  Methods inherited from pybind11_builtins.pybind11_object:\n",
      " |  \n",
      " |  __new__(*args, **kwargs) from pybind11_builtins.pybind11_type\n",
      " |      Create and return a new object.  See help(type) for accurate signature.\n",
      "\n"
     ]
    }
   ],
   "source": [
    "help(o3d.open3d.geometry.PointCloud)"
   ]
  },
  {
   "cell_type": "code",
   "execution_count": 21,
   "metadata": {},
   "outputs": [
    {
     "name": "stdout",
     "output_type": "stream",
     "text": [
      "[[-2.7893591  -2.1468387   5.1780005 ]\n",
      " [-1.5618024  -1.24175     2.9950001 ]\n",
      " [-3.150022   -2.5900543   6.2470002 ]\n",
      " ...\n",
      " [ 2.6541948   2.3671136   5.7660003 ]\n",
      " [ 3.9989414   3.4377751   8.3740005 ]\n",
      " [ 0.28549352  0.22291757  0.54300004]]\n"
     ]
    }
   ],
   "source": [
    " print(np.asarray(pcd.points))"
   ]
  },
  {
   "cell_type": "code",
   "execution_count": 22,
   "metadata": {},
   "outputs": [
    {
     "name": "stdout",
     "output_type": "stream",
     "text": [
      "[[0.54117647 0.6        0.56862745]\n",
      " [0.14509804 0.15294118 0.1372549 ]\n",
      " [0.10588235 0.11372549 0.10980392]\n",
      " ...\n",
      " [0.26666667 0.25882353 0.12941176]\n",
      " [0.23529412 0.24313725 0.22352941]\n",
      " [0.29019608 0.3372549  0.30196078]]\n"
     ]
    }
   ],
   "source": [
    "print(np.asarray(pcd.colors))"
   ]
  },
  {
   "cell_type": "markdown",
   "metadata": {},
   "source": [
    "\n"
   ]
  },
  {
   "cell_type": "markdown",
   "metadata": {},
   "source": [
    "### transform"
   ]
  },
  {
   "cell_type": "code",
   "execution_count": 84,
   "metadata": {},
   "outputs": [
    {
     "name": "stdout",
     "output_type": "stream",
     "text": [
      "Help on method transform in module open3d.open3d.geometry:\n",
      "\n",
      "transform(...) method of open3d.open3d.geometry.PointCloud instance\n",
      "    transform(self, arg0)\n",
      "    \n",
      "    Apply transformation (4x4 matrix) to the geometry coordinates.\n",
      "    \n",
      "    Args:\n",
      "        arg0 (numpy.ndarray[float64[4, 4]])\n",
      "    \n",
      "    Returns:\n",
      "        open3d.geometry.Geometry3D\n",
      "\n"
     ]
    }
   ],
   "source": [
    "help(pcd.transform)"
   ]
  },
  {
   "cell_type": "code",
   "execution_count": 83,
   "metadata": {},
   "outputs": [],
   "source": [
    "import copy\n",
    "pcd_tf = copy.deepcopy(pcd)\n",
    "pcd_tf.transform([[1, 0, 0, 0], [0, -1, 0, 0], [0, 0, -1, 0], [0, 0, 0, 1]])\n",
    "\n",
    "o3d.visualization.draw_geometries([pcd])\n",
    "o3d.visualization.draw_geometries([pcd_tf])"
   ]
  },
  {
   "cell_type": "markdown",
   "metadata": {},
   "source": [
    "\n"
   ]
  },
  {
   "cell_type": "markdown",
   "metadata": {},
   "source": [
    "### voxel grid downsample"
   ]
  },
  {
   "cell_type": "code",
   "execution_count": 75,
   "metadata": {
    "scrolled": true
   },
   "outputs": [
    {
     "name": "stdout",
     "output_type": "stream",
     "text": [
      "Help on method voxel_down_sample in module open3d.open3d.geometry:\n",
      "\n",
      "voxel_down_sample(...) method of open3d.open3d.geometry.PointCloud instance\n",
      "    voxel_down_sample(self, voxel_size)\n",
      "    \n",
      "    Function to downsample input pointcloud into output pointcloud with a voxel\n",
      "    \n",
      "    Args:\n",
      "        voxel_size (float): Voxel size to downsample into.\n",
      "    \n",
      "    Returns:\n",
      "        open3d.geometry.PointCloud\n",
      "\n"
     ]
    }
   ],
   "source": [
    "help(pcd.voxel_down_sample)"
   ]
  },
  {
   "cell_type": "code",
   "execution_count": 88,
   "metadata": {},
   "outputs": [
    {
     "name": "stdout",
     "output_type": "stream",
     "text": [
      "geometry::PointCloud with 10917 points.\n"
     ]
    }
   ],
   "source": [
    "voxel_down_pcd = pcd.voxel_down_sample(voxel_size=0.05)\n",
    "print(voxel_down_pcd)"
   ]
  },
  {
   "cell_type": "code",
   "execution_count": 89,
   "metadata": {},
   "outputs": [],
   "source": [
    "o3d.visualization.draw_geometries([pcd], window_name='pcd')\n",
    "o3d.visualization.draw_geometries([voxel_down_pcd])"
   ]
  },
  {
   "cell_type": "markdown",
   "metadata": {},
   "source": [
    "\n"
   ]
  },
  {
   "cell_type": "markdown",
   "metadata": {},
   "source": [
    "### uniform downsample"
   ]
  },
  {
   "cell_type": "code",
   "execution_count": 87,
   "metadata": {},
   "outputs": [
    {
     "name": "stdout",
     "output_type": "stream",
     "text": [
      "Help on method uniform_down_sample in module open3d.open3d.geometry:\n",
      "\n",
      "uniform_down_sample(...) method of open3d.open3d.geometry.PointCloud instance\n",
      "    uniform_down_sample(self, every_k_points)\n",
      "    \n",
      "    Function to downsample input pointcloud into output pointcloud uniformly. The sample is performed in the order of the points with the 0-th point always chosen, not at random.\n",
      "    \n",
      "    Args:\n",
      "        every_k_points (int): Sample rate, the selected point indices are [0, k, 2k, ...]\n",
      "    \n",
      "    Returns:\n",
      "        open3d.geometry.PointCloud\n",
      "\n"
     ]
    }
   ],
   "source": [
    "help(pcd.uniform_down_sample)"
   ]
  },
  {
   "cell_type": "code",
   "execution_count": 90,
   "metadata": {},
   "outputs": [
    {
     "name": "stdout",
     "output_type": "stream",
     "text": [
      "geometry::PointCloud with 40660 points.\n"
     ]
    }
   ],
   "source": [
    "uni_down_pcd = pcd.uniform_down_sample(every_k_points=5)\n",
    "print(uni_down_pcd)"
   ]
  },
  {
   "cell_type": "code",
   "execution_count": 106,
   "metadata": {},
   "outputs": [],
   "source": [
    "o3d.visualization.draw_geometries([pcd], window_name='pcd')\n",
    "o3d.visualization.draw_geometries([uni_down_pcd])"
   ]
  },
  {
   "cell_type": "markdown",
   "metadata": {},
   "source": [
    "\n"
   ]
  },
  {
   "cell_type": "markdown",
   "metadata": {},
   "source": [
    "### statistical outlier removal"
   ]
  },
  {
   "cell_type": "code",
   "execution_count": 85,
   "metadata": {},
   "outputs": [
    {
     "name": "stdout",
     "output_type": "stream",
     "text": [
      "Help on method remove_statistical_outlier in module open3d.open3d.geometry:\n",
      "\n",
      "remove_statistical_outlier(...) method of open3d.open3d.geometry.PointCloud instance\n",
      "    remove_statistical_outlier(self, nb_neighbors, std_ratio)\n",
      "    \n",
      "    Function to remove points that are further away from their neighbors in average\n",
      "    \n",
      "    Args:\n",
      "        nb_neighbors (int): Number of neighbors around the target point.\n",
      "        std_ratio (float): Standard deviation ratio.\n",
      "    \n",
      "    Returns:\n",
      "        Tuple[open3d.geometry.PointCloud, List[int]]\n",
      "\n"
     ]
    }
   ],
   "source": [
    "help(pcd.remove_statistical_outlier)"
   ]
  },
  {
   "cell_type": "code",
   "execution_count": 101,
   "metadata": {},
   "outputs": [
    {
     "name": "stdout",
     "output_type": "stream",
     "text": [
      "geometry::PointCloud with 10808 points.\n",
      "10808\n"
     ]
    }
   ],
   "source": [
    "cl, ind = voxel_down_pcd.remove_statistical_outlier(nb_neighbors=20, std_ratio=2.0)\n",
    "print(cl)\n",
    "print(len(ind))"
   ]
  },
  {
   "cell_type": "markdown",
   "metadata": {},
   "source": [
    "\n"
   ]
  },
  {
   "cell_type": "markdown",
   "metadata": {},
   "source": [
    "### select cloud by index"
   ]
  },
  {
   "cell_type": "code",
   "execution_count": 100,
   "metadata": {},
   "outputs": [
    {
     "name": "stdout",
     "output_type": "stream",
     "text": [
      "Help on method select_down_sample in module open3d.open3d.geometry:\n",
      "\n",
      "select_down_sample(...) method of open3d.open3d.geometry.PointCloud instance\n",
      "    select_down_sample(self, indices, invert=False)\n",
      "    \n",
      "    Function to select points from input pointcloud into output pointcloud. ``indices``: Indices of points to be selected. ``invert``: Set to ``True`` to invert the selection of indices.\n",
      "    \n",
      "    Args:\n",
      "        indices (List[int]): Indices of points to be selected.\n",
      "        invert (bool, optional, default=False): Set to ``True`` to invert the selection of indices.\n",
      "    \n",
      "    Returns:\n",
      "        open3d.geometry.PointCloud\n",
      "\n"
     ]
    }
   ],
   "source": [
    "help(voxel_down_pcd.select_down_sample)"
   ]
  },
  {
   "cell_type": "code",
   "execution_count": 102,
   "metadata": {},
   "outputs": [
    {
     "name": "stdout",
     "output_type": "stream",
     "text": [
      "geometry::PointCloud with 10917 points.\n",
      "geometry::PointCloud with 10808 points.\n",
      "geometry::PointCloud with 109 points.\n",
      "Showing outliers (red) and inliers (gray): \n"
     ]
    }
   ],
   "source": [
    "print(voxel_down_pcd)\n",
    "\n",
    "inlier_cloud = voxel_down_pcd.select_down_sample(ind)\n",
    "print(inlier_cloud)\n",
    "\n",
    "outlier_cloud = voxel_down_pcd.select_down_sample(ind, invert=True)\n",
    "print(outlier_cloud)\n",
    "\n",
    "print(\"Showing outliers (red) and inliers (gray): \")\n",
    "outlier_cloud.paint_uniform_color([1, 0, 0])\n",
    "inlier_cloud.paint_uniform_color([0.8, 0.8, 0.8])\n",
    "o3d.visualization.draw_geometries([inlier_cloud, outlier_cloud])"
   ]
  },
  {
   "cell_type": "markdown",
   "metadata": {},
   "source": [
    "\n"
   ]
  },
  {
   "cell_type": "markdown",
   "metadata": {},
   "source": [
    "### radius outlier removal"
   ]
  },
  {
   "cell_type": "code",
   "execution_count": 86,
   "metadata": {},
   "outputs": [
    {
     "name": "stdout",
     "output_type": "stream",
     "text": [
      "Help on method remove_radius_outlier in module open3d.open3d.geometry:\n",
      "\n",
      "remove_radius_outlier(...) method of open3d.open3d.geometry.PointCloud instance\n",
      "    remove_radius_outlier(self, nb_points, radius)\n",
      "    \n",
      "    Function to remove points that have less than nb_points in a given sphere of a given radius\n",
      "    \n",
      "    Args:\n",
      "        nb_points (int): Number of points within the radius.\n",
      "        radius (float): Radius of the sphere.\n",
      "    \n",
      "    Returns:\n",
      "        Tuple[open3d.geometry.PointCloud, List[int]]\n",
      "\n"
     ]
    }
   ],
   "source": [
    "help(pcd.remove_radius_outlier)"
   ]
  },
  {
   "cell_type": "code",
   "execution_count": 105,
   "metadata": {},
   "outputs": [
    {
     "name": "stdout",
     "output_type": "stream",
     "text": [
      "geometry::PointCloud with 3306 points.\n",
      "geometry::PointCloud with 7611 points.\n",
      "Showing outliers (red) and inliers (gray): \n"
     ]
    }
   ],
   "source": [
    "cl, ind = voxel_down_pcd.remove_radius_outlier(nb_points=5, radius=0.05)\n",
    "inlier_cloud = voxel_down_pcd.select_down_sample(ind)\n",
    "outlier_cloud = voxel_down_pcd.select_down_sample(ind, invert=True)\n",
    "\n",
    "print(inlier_cloud)\n",
    "print(outlier_cloud)\n",
    "\n",
    "print(\"Showing outliers (red) and inliers (gray): \")\n",
    "outlier_cloud.paint_uniform_color([1, 0, 0])\n",
    "inlier_cloud.paint_uniform_color([0.8, 0.8, 0.8])\n",
    "o3d.visualization.draw_geometries([inlier_cloud, outlier_cloud])"
   ]
  },
  {
   "cell_type": "markdown",
   "metadata": {},
   "source": [
    "\n"
   ]
  },
  {
   "cell_type": "markdown",
   "metadata": {},
   "source": [
    "### pick points in visulization"
   ]
  },
  {
   "cell_type": "code",
   "execution_count": 4,
   "metadata": {},
   "outputs": [
    {
     "name": "stdout",
     "output_type": "stream",
     "text": [
      "[134116]\n"
     ]
    }
   ],
   "source": [
    "vis = o3d.visualization.VisualizerWithEditing()\n",
    "\n",
    "vis.create_window()\n",
    "vis.add_geometry(pcd)\n",
    "vis.run()\n",
    "vis.destroy_window()\n",
    "\n",
    "aa = vis.get_picked_points()\n",
    "print(aa)"
   ]
  },
  {
   "cell_type": "code",
   "execution_count": 5,
   "metadata": {
    "scrolled": true
   },
   "outputs": [
    {
     "name": "stdout",
     "output_type": "stream",
     "text": [
      "[-0.03773436  0.28421903  3.8090003 ]\n"
     ]
    }
   ],
   "source": [
    "print(pcd.points[aa[0]])"
   ]
  },
  {
   "cell_type": "markdown",
   "metadata": {},
   "source": [
    "\n"
   ]
  },
  {
   "cell_type": "markdown",
   "metadata": {},
   "source": [
    "### Crop"
   ]
  },
  {
   "cell_type": "code",
   "execution_count": 111,
   "metadata": {},
   "outputs": [
    {
     "name": "stdout",
     "output_type": "stream",
     "text": [
      "Help on method crop in module open3d.open3d.geometry:\n",
      "\n",
      "crop(...) method of open3d.open3d.geometry.PointCloud instance\n",
      "    crop(bounding_box, bounding_box)\n",
      "    \n",
      "    Function to crop input pointcloud into output pointcloud\n",
      "    \n",
      "    Args:\n",
      "        bounding_box (open3d.geometry.AxisAlignedBoundingBox) ): AxisAlignedBoundingBox to crop points\n",
      "        bounding_box (open3d.geometry.OrientedBoundingBox): AxisAlignedBoundingBox to crop points\n",
      "    \n",
      "    Returns:\n",
      "        open3d.geometry.PointCloud\n",
      "\n"
     ]
    }
   ],
   "source": [
    "help(pcd.crop)"
   ]
  },
  {
   "cell_type": "code",
   "execution_count": 113,
   "metadata": {},
   "outputs": [
    {
     "name": "stdout",
     "output_type": "stream",
     "text": [
      "Help on class AxisAlignedBoundingBox in module open3d.open3d.geometry:\n",
      "\n",
      "class AxisAlignedBoundingBox(Geometry3D)\n",
      " |  Class that defines an axis_aligned box that can be computed from 3D geometries, The axis aligned bounding box uses the cooridnate axes for bounding box generation.\n",
      " |  \n",
      " |  Method resolution order:\n",
      " |      AxisAlignedBoundingBox\n",
      " |      Geometry3D\n",
      " |      Geometry\n",
      " |      pybind11_builtins.pybind11_object\n",
      " |      builtins.object\n",
      " |  \n",
      " |  Methods defined here:\n",
      " |  \n",
      " |  __copy__(...)\n",
      " |      __copy__(self: open3d.open3d.geometry.AxisAlignedBoundingBox) -> open3d.open3d.geometry.AxisAlignedBoundingBox\n",
      " |  \n",
      " |  __deepcopy__(...)\n",
      " |      __deepcopy__(self: open3d.open3d.geometry.AxisAlignedBoundingBox, arg0: dict) -> open3d.open3d.geometry.AxisAlignedBoundingBox\n",
      " |  \n",
      " |  __init__(...)\n",
      " |      __init__(*args, **kwargs)\n",
      " |      Overloaded function.\n",
      " |      \n",
      " |      1. __init__(self: open3d.open3d.geometry.AxisAlignedBoundingBox) -> None\n",
      " |      \n",
      " |      Default constructor\n",
      " |      \n",
      " |      2. __init__(self: open3d.open3d.geometry.AxisAlignedBoundingBox, arg0: open3d.open3d.geometry.AxisAlignedBoundingBox) -> None\n",
      " |      \n",
      " |      Copy constructor\n",
      " |      \n",
      " |      3. __init__(self: open3d.open3d.geometry.AxisAlignedBoundingBox, min_bound: numpy.ndarray[float64[3, 1]], max_bound: numpy.ndarray[float64[3, 1]]) -> None\n",
      " |      \n",
      " |      Create an AxisAlignedBoundingBox from min bounds and max bounds in x, y and z\n",
      " |  \n",
      " |  __repr__(...)\n",
      " |      __repr__(self: open3d.open3d.geometry.AxisAlignedBoundingBox) -> str\n",
      " |  \n",
      " |  get_box_points(...)\n",
      " |      get_box_points(self)\n",
      " |      \n",
      " |      Returns the eight points that define the bounding box.\n",
      " |      \n",
      " |      Returns:\n",
      " |          open3d.utility.Vector3dVector\n",
      " |  \n",
      " |  get_extent(...)\n",
      " |      get_extent(self)\n",
      " |      \n",
      " |      Get the extent/length of the bounding box in x, y, and z dimension.\n",
      " |      \n",
      " |      Returns:\n",
      " |          numpy.ndarray[float64[3, 1]]\n",
      " |  \n",
      " |  get_half_extent(...)\n",
      " |      get_half_extent(self)\n",
      " |      \n",
      " |      Returns the half extent of the bounding box.\n",
      " |      \n",
      " |      Returns:\n",
      " |          numpy.ndarray[float64[3, 1]]\n",
      " |  \n",
      " |  get_max_extent(...)\n",
      " |      get_max_extent(self)\n",
      " |      \n",
      " |      Returns the maximum extent, i.e. the maximum of X, Y and Z axis\n",
      " |      \n",
      " |      Returns:\n",
      " |          float\n",
      " |  \n",
      " |  get_point_indices_within_bounding_box(...)\n",
      " |      get_point_indices_within_bounding_box(self, points)\n",
      " |      \n",
      " |      Return indices to points that are within the bounding box.\n",
      " |      \n",
      " |      Args:\n",
      " |          points (open3d.utility.Vector3dVector): A list of points.\n",
      " |      \n",
      " |      Returns:\n",
      " |          List[int]\n",
      " |  \n",
      " |  get_print_info(...)\n",
      " |      get_print_info(self)\n",
      " |      \n",
      " |      Returns the 3D dimensions of the bounding box in string format.\n",
      " |      \n",
      " |      Returns:\n",
      " |          str\n",
      " |  \n",
      " |  volume(...)\n",
      " |      volume(self)\n",
      " |      \n",
      " |      Returns the volume of the bounding box.\n",
      " |      \n",
      " |      Returns:\n",
      " |          float\n",
      " |  \n",
      " |  ----------------------------------------------------------------------\n",
      " |  Static methods defined here:\n",
      " |  \n",
      " |  create_from_points(...) from builtins.PyCapsule\n",
      " |      create_from_points(points)\n",
      " |      \n",
      " |      Creates the bounding box that encloses the set of points.\n",
      " |      \n",
      " |      Args:\n",
      " |          points (open3d.utility.Vector3dVector): A list of points.\n",
      " |      \n",
      " |      Returns:\n",
      " |          open3d.geometry.AxisAlignedBoundingBox\n",
      " |  \n",
      " |  ----------------------------------------------------------------------\n",
      " |  Data descriptors defined here:\n",
      " |  \n",
      " |  color\n",
      " |      ``float64`` array of shape ``(3, )``\n",
      " |  \n",
      " |  max_bound\n",
      " |      ``float64`` array of shape ``(3, )``\n",
      " |  \n",
      " |  min_bound\n",
      " |      ``float64`` array of shape ``(3, )``\n",
      " |  \n",
      " |  ----------------------------------------------------------------------\n",
      " |  Methods inherited from Geometry3D:\n",
      " |  \n",
      " |  get_axis_aligned_bounding_box(...)\n",
      " |      get_axis_aligned_bounding_box(self)\n",
      " |      \n",
      " |      Returns an axis-aligned bounding box of the geometry.\n",
      " |      \n",
      " |      Returns:\n",
      " |          open3d.geometry.AxisAlignedBoundingBox\n",
      " |  \n",
      " |  get_center(...)\n",
      " |      get_center(self)\n",
      " |      \n",
      " |      Returns the center of the geometry coordinates.\n",
      " |      \n",
      " |      Returns:\n",
      " |          numpy.ndarray[float64[3, 1]]\n",
      " |  \n",
      " |  get_max_bound(...)\n",
      " |      get_max_bound(self)\n",
      " |      \n",
      " |      Returns max bounds for geometry coordinates.\n",
      " |      \n",
      " |      Returns:\n",
      " |          numpy.ndarray[float64[3, 1]]\n",
      " |  \n",
      " |  get_min_bound(...)\n",
      " |      get_min_bound(self)\n",
      " |      \n",
      " |      Returns min bounds for geometry coordinates.\n",
      " |      \n",
      " |      Returns:\n",
      " |          numpy.ndarray[float64[3, 1]]\n",
      " |  \n",
      " |  get_oriented_bounding_box(...)\n",
      " |      get_oriented_bounding_box(self)\n",
      " |      \n",
      " |      Returns an oriented bounding box of the geometry.\n",
      " |      \n",
      " |      Returns:\n",
      " |          open3d.geometry.OrientedBoundingBox\n",
      " |  \n",
      " |  rotate(...)\n",
      " |      rotate(self, R, center=True)\n",
      " |      \n",
      " |      Apply rotation to the geometry coordinates and normals.\n",
      " |      \n",
      " |      Args:\n",
      " |          R (numpy.ndarray[float64[3, 3]]): The rotation matrix\n",
      " |          center (bool, optional, default=True): If true, then the rotation is applied to the centered geometry\n",
      " |      \n",
      " |      Returns:\n",
      " |          open3d.geometry.Geometry3D\n",
      " |  \n",
      " |  scale(...)\n",
      " |      scale(self, scale, center=True)\n",
      " |      \n",
      " |      Apply scaling to the geometry coordinates.\n",
      " |      \n",
      " |      Args:\n",
      " |          scale (float): The scale parameter that is multiplied to the points/vertices of the geometry\n",
      " |          center (bool, optional, default=True): If true, then the scale is applied to the centered geometry\n",
      " |      \n",
      " |      Returns:\n",
      " |          open3d.geometry.Geometry3D\n",
      " |  \n",
      " |  transform(...)\n",
      " |      transform(self, arg0)\n",
      " |      \n",
      " |      Apply transformation (4x4 matrix) to the geometry coordinates.\n",
      " |      \n",
      " |      Args:\n",
      " |          arg0 (numpy.ndarray[float64[4, 4]])\n",
      " |      \n",
      " |      Returns:\n",
      " |          open3d.geometry.Geometry3D\n",
      " |  \n",
      " |  translate(...)\n",
      " |      translate(self, translation, relative=True)\n",
      " |      \n",
      " |      Apply translation to the geometry coordinates.\n",
      " |      \n",
      " |      Args:\n",
      " |          translation (numpy.ndarray[float64[3, 1]]): A 3D vector to transform the geometry\n",
      " |          relative (bool, optional, default=True): If true, the translation vector is directly added to the geometry coordinates. Otherwise, the center is moved to the translation vector.\n",
      " |      \n",
      " |      Returns:\n",
      " |          open3d.geometry.Geometry3D\n",
      " |  \n",
      " |  ----------------------------------------------------------------------\n",
      " |  Static methods inherited from Geometry3D:\n",
      " |  \n",
      " |  get_rotation_matrix_from_axis_angle(...) from builtins.PyCapsule\n",
      " |      get_rotation_matrix_from_axis_angle(rotation: numpy.ndarray[float64[3, 1]]) -> numpy.ndarray[float64[3, 3]]\n",
      " |  \n",
      " |  get_rotation_matrix_from_quaternion(...) from builtins.PyCapsule\n",
      " |      get_rotation_matrix_from_quaternion(rotation: numpy.ndarray[float64[4, 1]]) -> numpy.ndarray[float64[3, 3]]\n",
      " |  \n",
      " |  get_rotation_matrix_from_xyz(...) from builtins.PyCapsule\n",
      " |      get_rotation_matrix_from_xyz(rotation: numpy.ndarray[float64[3, 1]]) -> numpy.ndarray[float64[3, 3]]\n",
      " |  \n",
      " |  get_rotation_matrix_from_xzy(...) from builtins.PyCapsule\n",
      " |      get_rotation_matrix_from_xzy(rotation: numpy.ndarray[float64[3, 1]]) -> numpy.ndarray[float64[3, 3]]\n",
      " |  \n",
      " |  get_rotation_matrix_from_yxz(...) from builtins.PyCapsule\n",
      " |      get_rotation_matrix_from_yxz(rotation: numpy.ndarray[float64[3, 1]]) -> numpy.ndarray[float64[3, 3]]\n",
      " |  \n",
      " |  get_rotation_matrix_from_yzx(...) from builtins.PyCapsule\n",
      " |      get_rotation_matrix_from_yzx(rotation: numpy.ndarray[float64[3, 1]]) -> numpy.ndarray[float64[3, 3]]\n",
      " |  \n",
      " |  get_rotation_matrix_from_zxy(...) from builtins.PyCapsule\n",
      " |      get_rotation_matrix_from_zxy(rotation: numpy.ndarray[float64[3, 1]]) -> numpy.ndarray[float64[3, 3]]\n",
      " |  \n",
      " |  get_rotation_matrix_from_zyx(...) from builtins.PyCapsule\n",
      " |      get_rotation_matrix_from_zyx(rotation: numpy.ndarray[float64[3, 1]]) -> numpy.ndarray[float64[3, 3]]\n",
      " |  \n",
      " |  ----------------------------------------------------------------------\n",
      " |  Methods inherited from Geometry:\n",
      " |  \n",
      " |  clear(...)\n",
      " |      clear(self)\n",
      " |      \n",
      " |      Clear all elements in the geometry.\n",
      " |      \n",
      " |      Returns:\n",
      " |          open3d.geometry.Geometry\n",
      " |  \n",
      " |  dimension(...)\n",
      " |      dimension(self)\n",
      " |      \n",
      " |      Returns whether the geometry is 2D or 3D.\n",
      " |      \n",
      " |      Returns:\n",
      " |          int\n",
      " |  \n",
      " |  get_geometry_type(...)\n",
      " |      get_geometry_type(self)\n",
      " |      \n",
      " |      Returns one of registered geometry types.\n",
      " |      \n",
      " |      Returns:\n",
      " |          open3d.geometry.Geometry.GeometryType\n",
      " |  \n",
      " |  is_empty(...)\n",
      " |      is_empty(self)\n",
      " |      \n",
      " |      Returns ``True`` iff the geometry is empty.\n",
      " |      \n",
      " |      Returns:\n",
      " |          bool\n",
      " |  \n",
      " |  ----------------------------------------------------------------------\n",
      " |  Data and other attributes inherited from Geometry:\n",
      " |  \n",
      " |  HalfEdgeTriangleMesh = Type.HalfEdgeTriangleMesh\n",
      " |  \n",
      " |  Image = Type.Image\n",
      " |  \n",
      " |  LineSet = Type.LineSet\n",
      " |  \n",
      " |  PointCloud = Type.PointCloud\n",
      " |  \n",
      " |  RGBDImage = Type.RGBDImage\n",
      " |  \n",
      " |  TetraMesh = Type.TetraMesh\n",
      " |  \n",
      " |  TriangleMesh = Type.TriangleMesh\n",
      " |  \n",
      " |  Type = <class 'open3d.open3d.geometry.Geometry.Type'>\n",
      " |      Enum class for Geometry types.\n",
      " |  \n",
      " |  Unspecified = Type.Unspecified\n",
      " |  \n",
      " |  VoxelGrid = Type.VoxelGrid\n",
      " |  \n",
      " |  ----------------------------------------------------------------------\n",
      " |  Methods inherited from pybind11_builtins.pybind11_object:\n",
      " |  \n",
      " |  __new__(*args, **kwargs) from pybind11_builtins.pybind11_type\n",
      " |      Create and return a new object.  See help(type) for accurate signature.\n",
      "\n"
     ]
    }
   ],
   "source": [
    "help(o3d.geometry.AxisAlignedBoundingBox)"
   ]
  },
  {
   "cell_type": "code",
   "execution_count": 8,
   "metadata": {},
   "outputs": [
    {
     "name": "stdout",
     "output_type": "stream",
     "text": [
      "geometry::PointCloud with 10312 points.\n"
     ]
    }
   ],
   "source": [
    "\n",
    "center_point = np.array(pcd.points[aa[0]])\n",
    "min_bound = center_point - np.asarray([1, 0.3, 0.3])\n",
    "max_bound = center_point + np.asarray([1, 0.3, 0.3])\n",
    "\n",
    "cropbox = o3d.geometry.AxisAlignedBoundingBox(min_bound=min_bound, max_bound=max_bound)\n",
    "cloud_cropped = pcd.crop(cropbox)\n",
    "print(cloud_cropped)\n",
    "\n",
    "cloud_cropped.paint_uniform_color([1, 0, 0])\n",
    "o3d.visualization.draw_geometries([pcd, cloud_cropped])"
   ]
  },
  {
   "cell_type": "code",
   "execution_count": 25,
   "metadata": {},
   "outputs": [],
   "source": [
    "lines_set = o3d.geometry.LineSet.create_from_axis_aligned_bounding_box(cropbox)\n",
    "lines_set.paint_uniform_color([0,1,0])\n",
    "\n",
    "o3d.visualization.draw_geometries([cloud_cropped, pcd, lines_set])"
   ]
  },
  {
   "cell_type": "code",
   "execution_count": 2,
   "metadata": {},
   "outputs": [
    {
     "name": "stdout",
     "output_type": "stream",
     "text": [
      "Help on class OrientedBoundingBox in module open3d.open3d.geometry:\n",
      "\n",
      "class OrientedBoundingBox(Geometry3D)\n",
      " |  Class that defines an oriented box that can be computed from 3D geometries.\n",
      " |  \n",
      " |  Method resolution order:\n",
      " |      OrientedBoundingBox\n",
      " |      Geometry3D\n",
      " |      Geometry\n",
      " |      pybind11_builtins.pybind11_object\n",
      " |      builtins.object\n",
      " |  \n",
      " |  Methods defined here:\n",
      " |  \n",
      " |  __copy__(...)\n",
      " |      __copy__(self: open3d.open3d.geometry.OrientedBoundingBox) -> open3d.open3d.geometry.OrientedBoundingBox\n",
      " |  \n",
      " |  __deepcopy__(...)\n",
      " |      __deepcopy__(self: open3d.open3d.geometry.OrientedBoundingBox, arg0: dict) -> open3d.open3d.geometry.OrientedBoundingBox\n",
      " |  \n",
      " |  __init__(...)\n",
      " |      __init__(*args, **kwargs)\n",
      " |      Overloaded function.\n",
      " |      \n",
      " |      1. __init__(self: open3d.open3d.geometry.OrientedBoundingBox) -> None\n",
      " |      \n",
      " |      Default constructor\n",
      " |      \n",
      " |      2. __init__(self: open3d.open3d.geometry.OrientedBoundingBox, arg0: open3d.open3d.geometry.OrientedBoundingBox) -> None\n",
      " |      \n",
      " |      Copy constructor\n",
      " |      \n",
      " |      3. __init__(self: open3d.open3d.geometry.OrientedBoundingBox, center: numpy.ndarray[float64[3, 1]], R: numpy.ndarray[float64[3, 3]], extent: numpy.ndarray[float64[3, 1]]) -> None\n",
      " |      \n",
      " |      Create OrientedBoudingBox from center, rotation R and extent in x, y and z direction\n",
      " |  \n",
      " |  __repr__(...)\n",
      " |      __repr__(self: open3d.open3d.geometry.OrientedBoundingBox) -> str\n",
      " |  \n",
      " |  get_box_points(...)\n",
      " |      get_box_points(self)\n",
      " |      \n",
      " |      Returns the eight points that define the bounding box.\n",
      " |      \n",
      " |      Returns:\n",
      " |          open3d.utility.Vector3dVector\n",
      " |  \n",
      " |  get_point_indices_within_bounding_box(...)\n",
      " |      get_point_indices_within_bounding_box(self, points)\n",
      " |      \n",
      " |      Return indices to points that are within the bounding box.\n",
      " |      \n",
      " |      Args:\n",
      " |          points (open3d.utility.Vector3dVector): A list of points.\n",
      " |      \n",
      " |      Returns:\n",
      " |          List[int]\n",
      " |  \n",
      " |  volume(...)\n",
      " |      volume(self)\n",
      " |      \n",
      " |      Returns the volume of the bounding box.\n",
      " |      \n",
      " |      Returns:\n",
      " |          float\n",
      " |  \n",
      " |  ----------------------------------------------------------------------\n",
      " |  Static methods defined here:\n",
      " |  \n",
      " |  create_from_axis_aligned_bounding_box(...) from builtins.PyCapsule\n",
      " |      create_from_axis_aligned_bounding_box(aabox)\n",
      " |      \n",
      " |      Returns an oriented bounding box from the AxisAlignedBoundingBox.\n",
      " |      \n",
      " |      Args:\n",
      " |          aabox (open3d.geometry.AxisAlignedBoundingBox): AxisAlignedBoundingBox object from which OrientedBoundingBox is created.\n",
      " |      \n",
      " |      Returns:\n",
      " |          open3d.geometry.OrientedBoundingBox\n",
      " |  \n",
      " |  create_from_points(...) from builtins.PyCapsule\n",
      " |      create_from_points(points)\n",
      " |      \n",
      " |      Creates the bounding box that encloses the set of points.\n",
      " |      \n",
      " |      Args:\n",
      " |          points (open3d.utility.Vector3dVector): A list of points.\n",
      " |      \n",
      " |      Returns:\n",
      " |          open3d.geometry.OrientedBoundingBox\n",
      " |  \n",
      " |  ----------------------------------------------------------------------\n",
      " |  Data descriptors defined here:\n",
      " |  \n",
      " |  R\n",
      " |      ``float64`` array of shape ``(3,3 )``\n",
      " |  \n",
      " |  center\n",
      " |      ``float64`` array of shape ``(3, )``\n",
      " |  \n",
      " |  color\n",
      " |      ``float64`` array of shape ``(3, )``\n",
      " |  \n",
      " |  extent\n",
      " |      ``float64`` array of shape ``(3, )``\n",
      " |  \n",
      " |  ----------------------------------------------------------------------\n",
      " |  Methods inherited from Geometry3D:\n",
      " |  \n",
      " |  get_axis_aligned_bounding_box(...)\n",
      " |      get_axis_aligned_bounding_box(self)\n",
      " |      \n",
      " |      Returns an axis-aligned bounding box of the geometry.\n",
      " |      \n",
      " |      Returns:\n",
      " |          open3d.geometry.AxisAlignedBoundingBox\n",
      " |  \n",
      " |  get_center(...)\n",
      " |      get_center(self)\n",
      " |      \n",
      " |      Returns the center of the geometry coordinates.\n",
      " |      \n",
      " |      Returns:\n",
      " |          numpy.ndarray[float64[3, 1]]\n",
      " |  \n",
      " |  get_max_bound(...)\n",
      " |      get_max_bound(self)\n",
      " |      \n",
      " |      Returns max bounds for geometry coordinates.\n",
      " |      \n",
      " |      Returns:\n",
      " |          numpy.ndarray[float64[3, 1]]\n",
      " |  \n",
      " |  get_min_bound(...)\n",
      " |      get_min_bound(self)\n",
      " |      \n",
      " |      Returns min bounds for geometry coordinates.\n",
      " |      \n",
      " |      Returns:\n",
      " |          numpy.ndarray[float64[3, 1]]\n",
      " |  \n",
      " |  get_oriented_bounding_box(...)\n",
      " |      get_oriented_bounding_box(self)\n",
      " |      \n",
      " |      Returns an oriented bounding box of the geometry.\n",
      " |      \n",
      " |      Returns:\n",
      " |          open3d.geometry.OrientedBoundingBox\n",
      " |  \n",
      " |  rotate(...)\n",
      " |      rotate(self, R, center=True)\n",
      " |      \n",
      " |      Apply rotation to the geometry coordinates and normals.\n",
      " |      \n",
      " |      Args:\n",
      " |          R (numpy.ndarray[float64[3, 3]]): The rotation matrix\n",
      " |          center (bool, optional, default=True): If true, then the rotation is applied to the centered geometry\n",
      " |      \n",
      " |      Returns:\n",
      " |          open3d.geometry.Geometry3D\n",
      " |  \n",
      " |  scale(...)\n",
      " |      scale(self, scale, center=True)\n",
      " |      \n",
      " |      Apply scaling to the geometry coordinates.\n",
      " |      \n",
      " |      Args:\n",
      " |          scale (float): The scale parameter that is multiplied to the points/vertices of the geometry\n",
      " |          center (bool, optional, default=True): If true, then the scale is applied to the centered geometry\n",
      " |      \n",
      " |      Returns:\n",
      " |          open3d.geometry.Geometry3D\n",
      " |  \n",
      " |  transform(...)\n",
      " |      transform(self, arg0)\n",
      " |      \n",
      " |      Apply transformation (4x4 matrix) to the geometry coordinates.\n",
      " |      \n",
      " |      Args:\n",
      " |          arg0 (numpy.ndarray[float64[4, 4]])\n",
      " |      \n",
      " |      Returns:\n",
      " |          open3d.geometry.Geometry3D\n",
      " |  \n",
      " |  translate(...)\n",
      " |      translate(self, translation, relative=True)\n",
      " |      \n",
      " |      Apply translation to the geometry coordinates.\n",
      " |      \n",
      " |      Args:\n",
      " |          translation (numpy.ndarray[float64[3, 1]]): A 3D vector to transform the geometry\n",
      " |          relative (bool, optional, default=True): If true, the translation vector is directly added to the geometry coordinates. Otherwise, the center is moved to the translation vector.\n",
      " |      \n",
      " |      Returns:\n",
      " |          open3d.geometry.Geometry3D\n",
      " |  \n",
      " |  ----------------------------------------------------------------------\n",
      " |  Static methods inherited from Geometry3D:\n",
      " |  \n",
      " |  get_rotation_matrix_from_axis_angle(...) from builtins.PyCapsule\n",
      " |      get_rotation_matrix_from_axis_angle(rotation: numpy.ndarray[float64[3, 1]]) -> numpy.ndarray[float64[3, 3]]\n",
      " |  \n",
      " |  get_rotation_matrix_from_quaternion(...) from builtins.PyCapsule\n",
      " |      get_rotation_matrix_from_quaternion(rotation: numpy.ndarray[float64[4, 1]]) -> numpy.ndarray[float64[3, 3]]\n",
      " |  \n",
      " |  get_rotation_matrix_from_xyz(...) from builtins.PyCapsule\n",
      " |      get_rotation_matrix_from_xyz(rotation: numpy.ndarray[float64[3, 1]]) -> numpy.ndarray[float64[3, 3]]\n",
      " |  \n",
      " |  get_rotation_matrix_from_xzy(...) from builtins.PyCapsule\n",
      " |      get_rotation_matrix_from_xzy(rotation: numpy.ndarray[float64[3, 1]]) -> numpy.ndarray[float64[3, 3]]\n",
      " |  \n",
      " |  get_rotation_matrix_from_yxz(...) from builtins.PyCapsule\n",
      " |      get_rotation_matrix_from_yxz(rotation: numpy.ndarray[float64[3, 1]]) -> numpy.ndarray[float64[3, 3]]\n",
      " |  \n",
      " |  get_rotation_matrix_from_yzx(...) from builtins.PyCapsule\n",
      " |      get_rotation_matrix_from_yzx(rotation: numpy.ndarray[float64[3, 1]]) -> numpy.ndarray[float64[3, 3]]\n",
      " |  \n",
      " |  get_rotation_matrix_from_zxy(...) from builtins.PyCapsule\n",
      " |      get_rotation_matrix_from_zxy(rotation: numpy.ndarray[float64[3, 1]]) -> numpy.ndarray[float64[3, 3]]\n",
      " |  \n",
      " |  get_rotation_matrix_from_zyx(...) from builtins.PyCapsule\n",
      " |      get_rotation_matrix_from_zyx(rotation: numpy.ndarray[float64[3, 1]]) -> numpy.ndarray[float64[3, 3]]\n",
      " |  \n",
      " |  ----------------------------------------------------------------------\n",
      " |  Methods inherited from Geometry:\n",
      " |  \n",
      " |  clear(...)\n",
      " |      clear(self)\n",
      " |      \n",
      " |      Clear all elements in the geometry.\n",
      " |      \n",
      " |      Returns:\n",
      " |          open3d.geometry.Geometry\n",
      " |  \n",
      " |  dimension(...)\n",
      " |      dimension(self)\n",
      " |      \n",
      " |      Returns whether the geometry is 2D or 3D.\n",
      " |      \n",
      " |      Returns:\n",
      " |          int\n",
      " |  \n",
      " |  get_geometry_type(...)\n",
      " |      get_geometry_type(self)\n",
      " |      \n",
      " |      Returns one of registered geometry types.\n",
      " |      \n",
      " |      Returns:\n",
      " |          open3d.geometry.Geometry.GeometryType\n",
      " |  \n",
      " |  is_empty(...)\n",
      " |      is_empty(self)\n",
      " |      \n",
      " |      Returns ``True`` iff the geometry is empty.\n",
      " |      \n",
      " |      Returns:\n",
      " |          bool\n",
      " |  \n",
      " |  ----------------------------------------------------------------------\n",
      " |  Data and other attributes inherited from Geometry:\n",
      " |  \n",
      " |  HalfEdgeTriangleMesh = Type.HalfEdgeTriangleMesh\n",
      " |  \n",
      " |  Image = Type.Image\n",
      " |  \n",
      " |  LineSet = Type.LineSet\n",
      " |  \n",
      " |  PointCloud = Type.PointCloud\n",
      " |  \n",
      " |  RGBDImage = Type.RGBDImage\n",
      " |  \n",
      " |  TetraMesh = Type.TetraMesh\n",
      " |  \n",
      " |  TriangleMesh = Type.TriangleMesh\n",
      " |  \n",
      " |  Type = <class 'open3d.open3d.geometry.Geometry.Type'>\n",
      " |      Enum class for Geometry types.\n",
      " |  \n",
      " |  Unspecified = Type.Unspecified\n",
      " |  \n",
      " |  VoxelGrid = Type.VoxelGrid\n",
      " |  \n",
      " |  ----------------------------------------------------------------------\n",
      " |  Methods inherited from pybind11_builtins.pybind11_object:\n",
      " |  \n",
      " |  __new__(*args, **kwargs) from pybind11_builtins.pybind11_type\n",
      " |      Create and return a new object.  See help(type) for accurate signature.\n",
      "\n"
     ]
    }
   ],
   "source": [
    "help(o3d.geometry.OrientedBoundingBox)"
   ]
  },
  {
   "cell_type": "markdown",
   "metadata": {},
   "source": [
    "\n"
   ]
  },
  {
   "cell_type": "markdown",
   "metadata": {},
   "source": [
    "### estimate normals"
   ]
  },
  {
   "cell_type": "code",
   "execution_count": 40,
   "metadata": {},
   "outputs": [
    {
     "name": "stdout",
     "output_type": "stream",
     "text": [
      "Help on method estimate_normals in module open3d.open3d.geometry:\n",
      "\n",
      "estimate_normals(...) method of open3d.open3d.geometry.PointCloud instance\n",
      "    estimate_normals(self, search_param=geometry::KDTreeSearchParamKNN with knn = 30, fast_normal_computation=True)\n",
      "    \n",
      "    Function to compute the normals of a point cloud. Normals are oriented with respect to the input point cloud if normals exist\n",
      "    \n",
      "    Args:\n",
      "        search_param (open3d.geometry.KDTreeSearchParam, optional, default=geometry::KDTreeSearchParamKNN with knn = 30): The KDTree search parameters for neighborhood search.\n",
      "        fast_normal_computation (bool, optional, default=True): If true, the normal estiamtion uses a non-iterative method to extract the eigenvector from the covariance matrix. This is faster, but is not as numerical stable.\n",
      "    \n",
      "    Returns:\n",
      "        bool\n",
      "\n"
     ]
    }
   ],
   "source": [
    "help(downpcd.estimate_normals)"
   ]
  },
  {
   "cell_type": "code",
   "execution_count": 42,
   "metadata": {},
   "outputs": [
    {
     "name": "stdout",
     "output_type": "stream",
     "text": [
      "Print a normal vector of the 0th point\n",
      "[0. 0. 1.]\n",
      "Print the normal vectors of 10 points\n",
      "[[ 0.16563201 -0.44525358 -0.87995187]\n",
      " [ 0.33267926 -0.66822808 -0.66542899]\n",
      " [ 0.33891198  0.44516458  0.82883482]\n",
      " [ 0.5504408   0.34147279 -0.76184727]\n",
      " [ 0.97976639 -0.19808279  0.02865362]\n",
      " [ 0.99523413  0.02386782  0.09454813]\n",
      " [ 0.99532676  0.02746002  0.09257745]\n",
      " [-0.22503048  0.61875917  0.75266086]\n",
      " [-0.31581652 -0.05706292  0.94710282]\n",
      " [ 0.66643013  0.63739875 -0.38677346]]\n"
     ]
    }
   ],
   "source": [
    "downpcd.estimate_normals(search_param=o3d.geometry.KDTreeSearchParamHybrid(\n",
    "    radius=0.1, max_nn=30))\n",
    "print(\"Print a normal vector of the 0th point\")\n",
    "print(downpcd.normals[0])\n",
    "print(\"Print the normal vectors of 10 points\")\n",
    "print(np.asarray(downpcd.normals)[100:110, :])"
   ]
  },
  {
   "cell_type": "markdown",
   "metadata": {},
   "source": [
    "\n"
   ]
  },
  {
   "cell_type": "markdown",
   "metadata": {},
   "source": [
    "### segment plane"
   ]
  },
  {
   "cell_type": "code",
   "execution_count": 12,
   "metadata": {},
   "outputs": [
    {
     "name": "stdout",
     "output_type": "stream",
     "text": [
      "Help on method segment_plane in module open3d.open3d.geometry:\n",
      "\n",
      "segment_plane(...) method of open3d.open3d.geometry.PointCloud instance\n",
      "    segment_plane(self, distance_threshold, ransac_n, num_iterations)\n",
      "    \n",
      "    Segments a plane in the point cloud using the RANSAC algorithm.\n",
      "    \n",
      "    Args:\n",
      "        distance_threshold (float): Max distance a point can be from the plane model, and still be considered an inlier.\n",
      "        ransac_n (int): Number of initial points to be considered inliers in each iteration.\n",
      "        num_iterations (int): Number of iterations.\n",
      "    \n",
      "    Returns:\n",
      "        Tuple[numpy.ndarray[float64[4, 1]], List[int]]\n",
      "\n"
     ]
    }
   ],
   "source": [
    "help(pcd.segment_plane)"
   ]
  },
  {
   "cell_type": "code",
   "execution_count": 109,
   "metadata": {},
   "outputs": [
    {
     "name": "stdout",
     "output_type": "stream",
     "text": [
      "[-0.04532055  0.53486659  0.8437202   3.3474089 ]\n",
      "Plane equation: -0.05x + 0.53y + 0.84z + 3.35 = 0\n"
     ]
    }
   ],
   "source": [
    "plane_model, inliers = pcd.segment_plane(distance_threshold=0.01,\n",
    "                                         ransac_n=3,\n",
    "                                         num_iterations=1000)\n",
    "\n",
    "print(plane_model)\n",
    "\n",
    "[a, b, c, d] = plane_model\n",
    "print(f\"Plane equation: {a:.2f}x + {b:.2f}y + {c:.2f}z + {d:.2f} = 0\")"
   ]
  },
  {
   "cell_type": "code",
   "execution_count": 154,
   "metadata": {},
   "outputs": [],
   "source": [
    "inlier_cloud = pcd.select_down_sample(inliers)\n",
    "inlier_cloud.paint_uniform_color([1, 0, 0])\n",
    "o3d.visualization.draw_geometries([pcd, inlier_cloud])"
   ]
  },
  {
   "cell_type": "markdown",
   "metadata": {},
   "source": [
    "\n"
   ]
  }
 ],
 "metadata": {
  "kernelspec": {
   "display_name": "Python 3",
   "language": "python",
   "name": "python3"
  },
  "language_info": {
   "codemirror_mode": {
    "name": "ipython",
    "version": 3
   },
   "file_extension": ".py",
   "mimetype": "text/x-python",
   "name": "python",
   "nbconvert_exporter": "python",
   "pygments_lexer": "ipython3",
   "version": "3.6.10"
  }
 },
 "nbformat": 4,
 "nbformat_minor": 4
}
