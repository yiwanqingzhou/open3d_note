{
 "cells": [
  {
   "cell_type": "code",
   "execution_count": 1,
   "metadata": {},
   "outputs": [],
   "source": [
    "import open3d as o3d\n",
    "import numpy as np\n",
    "import copy"
   ]
  },
  {
   "cell_type": "code",
   "execution_count": 2,
   "metadata": {},
   "outputs": [],
   "source": [
    "target = o3d.io.read_point_cloud(\"./data/cloud.pcd\")\n",
    "source = o3d.io.read_triangle_mesh(\"./data/model.stl\")"
   ]
  },
  {
   "cell_type": "code",
   "execution_count": 3,
   "metadata": {},
   "outputs": [
    {
     "name": "stdout",
     "output_type": "stream",
     "text": [
      "Help on built-in function registration_icp in module open3d.open3d.registration:\n",
      "\n",
      "registration_icp(...) method of builtins.PyCapsule instance\n",
      "    registration_icp(source, target, max_correspondence_distance, init=(with default value), estimation_method=registration::TransformationEstimationPointToPoint without scaling., criteria=registration::ICPConvergenceCriteria class with relative_fitness=1.000000e-06, relative_rmse=1.000000e-06, and max_iteration=30)\n",
      "    \n",
      "    Function for ICP registration\n",
      "    \n",
      "    Args:\n",
      "        source (open3d.geometry.PointCloud): The source point cloud.\n",
      "        target (open3d.geometry.PointCloud): The target point cloud.\n",
      "        max_correspondence_distance (float): Maximum correspondence points-pair distance.\n",
      "        init (numpy.ndarray[float64[4, 4]], optional): Initial transformation estimation Default value:\n",
      "    \n",
      "            array([[1., 0., 0., 0.],\n",
      "            [0., 1., 0., 0.],\n",
      "            [0., 0., 1., 0.],\n",
      "            [0., 0., 0., 1.]])\n",
      "        estimation_method (open3d.registration.TransformationEstimation, optional, default=registration::TransformationEstimationPointToPoint without scaling.): Estimation method. One of (``registration::TransformationEstimationPointToPoint``, ``registration::TransformationEstimationPointToPlane``)\n",
      "        criteria (open3d.registration.ICPConvergenceCriteria, optional, default=registration::ICPConvergenceCriteria class with relative_fitness=1.000000e-06, relative_rmse=1.000000e-06, and max_iteration=30): Convergence criteria\n",
      "    \n",
      "    Returns:\n",
      "        open3d.registration.RegistrationResult\n",
      "\n"
     ]
    }
   ],
   "source": [
    "help(o3d.registration.registration_icp)"
   ]
  },
  {
   "cell_type": "markdown",
   "metadata": {},
   "source": [
    "### mesh to cloud"
   ]
  },
  {
   "cell_type": "code",
   "execution_count": 4,
   "metadata": {},
   "outputs": [],
   "source": [
    "def mesh_to_pcd(mesh, mesh_sample_number):\n",
    "    mesh.compute_vertex_normals()\n",
    "    pcd = mesh.sample_points_uniformly(number_of_points=mesh_sample_number)\n",
    "    pcd.paint_uniform_color([1, 0.706, 0])  # yellow\n",
    "    return pcd"
   ]
  },
  {
   "cell_type": "code",
   "execution_count": 6,
   "metadata": {},
   "outputs": [
    {
     "data": {
      "text/plain": [
       "True"
      ]
     },
     "execution_count": 6,
     "metadata": {},
     "output_type": "execute_result"
    }
   ],
   "source": [
    "source_pcd = mesh_to_pcd(source, 100000)\n",
    "# o3d.visualization.draw_geometries([source])\n",
    "# o3d.visualization.draw_geometries([source_pcd])\n",
    "\n",
    "o3d.io.write_point_cloud(\"model.pcd\", source_pcd)"
   ]
  },
  {
   "cell_type": "markdown",
   "metadata": {},
   "source": [
    "\n",
    "\n"
   ]
  },
  {
   "cell_type": "markdown",
   "metadata": {},
   "source": [
    "### pick points"
   ]
  },
  {
   "cell_type": "code",
   "execution_count": 7,
   "metadata": {},
   "outputs": [],
   "source": [
    "def get_picked_indices_in_cloud(cloud):\n",
    "    vis = o3d.visualization.VisualizerWithEditing()\n",
    "\n",
    "    vis.create_window()\n",
    "    vis.add_geometry(cloud)\n",
    "    vis.run()\n",
    "    vis.destroy_window()\n",
    "\n",
    "    return vis.get_picked_points()"
   ]
  },
  {
   "cell_type": "code",
   "execution_count": 8,
   "metadata": {},
   "outputs": [],
   "source": [
    "indices_in_source = get_picked_indices_in_cloud(source_pcd)\n",
    "indices_in_target = get_picked_indices_in_cloud(target)"
   ]
  },
  {
   "cell_type": "markdown",
   "metadata": {},
   "source": [
    "\n"
   ]
  },
  {
   "cell_type": "markdown",
   "metadata": {},
   "source": [
    "### Convert picked indices to Open3d corresponces"
   ]
  },
  {
   "cell_type": "code",
   "execution_count": 23,
   "metadata": {},
   "outputs": [
    {
     "name": "stdout",
     "output_type": "stream",
     "text": [
      "Help on class Vector2iVector in module open3d.open3d.utility:\n",
      "\n",
      "class Vector2iVector(pybind11_builtins.pybind11_object)\n",
      " |  Convert int32 numpy array of shape ``(n, 2)`` to Open3D format.\n",
      " |  \n",
      " |  Method resolution order:\n",
      " |      Vector2iVector\n",
      " |      pybind11_builtins.pybind11_object\n",
      " |      builtins.object\n",
      " |  \n",
      " |  Methods defined here:\n",
      " |  \n",
      " |  __bool__(...)\n",
      " |      __bool__(self: open3d.open3d.utility.Vector2iVector) -> bool\n",
      " |      \n",
      " |      Check whether the list is nonempty\n",
      " |  \n",
      " |  __contains__(...)\n",
      " |      __contains__(self: open3d.open3d.utility.Vector2iVector, x: numpy.ndarray[int32[2, 1]]) -> bool\n",
      " |      \n",
      " |      Return true the container contains ``x``\n",
      " |  \n",
      " |  __copy__(...)\n",
      " |      __copy__(self: open3d.open3d.utility.Vector2iVector) -> open3d.open3d.utility.Vector2iVector\n",
      " |  \n",
      " |  __deepcopy__(...)\n",
      " |      __deepcopy__(self: open3d.open3d.utility.Vector2iVector, arg0: dict) -> open3d.open3d.utility.Vector2iVector\n",
      " |  \n",
      " |  __delitem__(...)\n",
      " |      __delitem__(*args, **kwargs)\n",
      " |      Overloaded function.\n",
      " |      \n",
      " |      1. __delitem__(self: open3d.open3d.utility.Vector2iVector, arg0: int) -> None\n",
      " |      \n",
      " |      Delete the list elements at index ``i``\n",
      " |      \n",
      " |      2. __delitem__(self: open3d.open3d.utility.Vector2iVector, arg0: slice) -> None\n",
      " |      \n",
      " |      Delete list elements using a slice object\n",
      " |  \n",
      " |  __eq__(...)\n",
      " |      __eq__(self: open3d.open3d.utility.Vector2iVector, arg0: open3d.open3d.utility.Vector2iVector) -> bool\n",
      " |  \n",
      " |  __getitem__(...)\n",
      " |      __getitem__(*args, **kwargs)\n",
      " |      Overloaded function.\n",
      " |      \n",
      " |      1. __getitem__(self: open3d.open3d.utility.Vector2iVector, s: slice) -> open3d.open3d.utility.Vector2iVector\n",
      " |      \n",
      " |      Retrieve list elements using a slice object\n",
      " |      \n",
      " |      2. __getitem__(self: open3d.open3d.utility.Vector2iVector, arg0: int) -> numpy.ndarray[int32[2, 1]]\n",
      " |  \n",
      " |  __init__(...)\n",
      " |      __init__(*args, **kwargs)\n",
      " |      Overloaded function.\n",
      " |      \n",
      " |      1. __init__(self: open3d.open3d.utility.Vector2iVector) -> None\n",
      " |      \n",
      " |      2. __init__(self: open3d.open3d.utility.Vector2iVector, arg0: numpy.ndarray[int32]) -> None\n",
      " |      \n",
      " |      3. __init__(self: open3d.open3d.utility.Vector2iVector, arg0: open3d.open3d.utility.Vector2iVector) -> None\n",
      " |      \n",
      " |      Copy constructor\n",
      " |      \n",
      " |      4. __init__(self: open3d.open3d.utility.Vector2iVector, arg0: iterable) -> None\n",
      " |  \n",
      " |  __iter__(...)\n",
      " |      __iter__(self: open3d.open3d.utility.Vector2iVector) -> iterator\n",
      " |  \n",
      " |  __len__(...)\n",
      " |      __len__(self: open3d.open3d.utility.Vector2iVector) -> int\n",
      " |  \n",
      " |  __ne__(...)\n",
      " |      __ne__(self: open3d.open3d.utility.Vector2iVector, arg0: open3d.open3d.utility.Vector2iVector) -> bool\n",
      " |  \n",
      " |  __repr__(...)\n",
      " |      __repr__(self: open3d.open3d.utility.Vector2iVector) -> str\n",
      " |  \n",
      " |  __setitem__(...)\n",
      " |      __setitem__(*args, **kwargs)\n",
      " |      Overloaded function.\n",
      " |      \n",
      " |      1. __setitem__(self: open3d.open3d.utility.Vector2iVector, arg0: int, arg1: numpy.ndarray[int32[2, 1]]) -> None\n",
      " |      \n",
      " |      2. __setitem__(self: open3d.open3d.utility.Vector2iVector, arg0: slice, arg1: open3d.open3d.utility.Vector2iVector) -> None\n",
      " |      \n",
      " |      Assign list elements using a slice object\n",
      " |  \n",
      " |  append(...)\n",
      " |      append(self: open3d.open3d.utility.Vector2iVector, x: numpy.ndarray[int32[2, 1]]) -> None\n",
      " |      \n",
      " |      Add an item to the end of the list\n",
      " |  \n",
      " |  count(...)\n",
      " |      count(self: open3d.open3d.utility.Vector2iVector, x: numpy.ndarray[int32[2, 1]]) -> int\n",
      " |      \n",
      " |      Return the number of times ``x`` appears in the list\n",
      " |  \n",
      " |  extend(...)\n",
      " |      extend(*args, **kwargs)\n",
      " |      Overloaded function.\n",
      " |      \n",
      " |      1. extend(self: open3d.open3d.utility.Vector2iVector, L: open3d.open3d.utility.Vector2iVector) -> None\n",
      " |      \n",
      " |      Extend the list by appending all the items in the given list\n",
      " |      \n",
      " |      2. extend(self: open3d.open3d.utility.Vector2iVector, L: iterable) -> None\n",
      " |      \n",
      " |      Extend the list by appending all the items in the given list\n",
      " |  \n",
      " |  insert(...)\n",
      " |      insert(self: open3d.open3d.utility.Vector2iVector, i: int, x: numpy.ndarray[int32[2, 1]]) -> None\n",
      " |      \n",
      " |      Insert an item at a given position.\n",
      " |  \n",
      " |  pop(...)\n",
      " |      pop(*args, **kwargs)\n",
      " |      Overloaded function.\n",
      " |      \n",
      " |      1. pop(self: open3d.open3d.utility.Vector2iVector) -> numpy.ndarray[int32[2, 1]]\n",
      " |      \n",
      " |      Remove and return the last item\n",
      " |      \n",
      " |      2. pop(self: open3d.open3d.utility.Vector2iVector, i: int) -> numpy.ndarray[int32[2, 1]]\n",
      " |      \n",
      " |      Remove and return the item at index ``i``\n",
      " |  \n",
      " |  remove(...)\n",
      " |      remove(self: open3d.open3d.utility.Vector2iVector, x: numpy.ndarray[int32[2, 1]]) -> None\n",
      " |      \n",
      " |      Remove the first item from the list whose value is x. It is an error if there is no such item.\n",
      " |  \n",
      " |  ----------------------------------------------------------------------\n",
      " |  Methods inherited from pybind11_builtins.pybind11_object:\n",
      " |  \n",
      " |  __new__(*args, **kwargs) from pybind11_builtins.pybind11_type\n",
      " |      Create and return a new object.  See help(type) for accurate signature.\n",
      "\n"
     ]
    }
   ],
   "source": [
    "help(o3d.utility.Vector2iVector)"
   ]
  },
  {
   "cell_type": "code",
   "execution_count": 9,
   "metadata": {},
   "outputs": [
    {
     "name": "stdout",
     "output_type": "stream",
     "text": [
      "[97146, 71348, 89565, 92943, 97859, 70429, 88722, 92378]\n",
      "[155580, 120005, 99324, 77720, 155322, 123175, 101721, 80592]\n",
      "\n",
      "[[ 97146. 155580.]\n",
      " [ 71348. 120005.]\n",
      " [ 89565.  99324.]\n",
      " [ 92943.  77720.]\n",
      " [ 97859. 155322.]\n",
      " [ 70429. 123175.]\n",
      " [ 88722. 101721.]\n",
      " [ 92378.  80592.]]\n",
      "\n",
      "std::vector<Eigen::Vector2i> with 8 elements.\n",
      "Use numpy.asarray() to access data.\n"
     ]
    }
   ],
   "source": [
    "corres_indices = np.zeros((len(indices_in_source), 2))\n",
    "corres_indices[:, 0] = indices_in_source\n",
    "corres_indices[:, 1] = indices_in_target\n",
    "correspondences = o3d.utility.Vector2iVector(corres_indices)\n",
    "\n",
    "print(indices_in_source)\n",
    "print(indices_in_target)\n",
    "print(\"\")\n",
    "print(corres_indices)\n",
    "print(\"\")\n",
    "print(correspondences)\n"
   ]
  },
  {
   "cell_type": "markdown",
   "metadata": {},
   "source": [
    "\n",
    "\n"
   ]
  },
  {
   "cell_type": "markdown",
   "metadata": {},
   "source": [
    "### point to point transform"
   ]
  },
  {
   "cell_type": "code",
   "execution_count": 16,
   "metadata": {
    "scrolled": true
   },
   "outputs": [
    {
     "name": "stdout",
     "output_type": "stream",
     "text": [
      "Help on class TransformationEstimationPointToPoint in module open3d.open3d.registration:\n",
      "\n",
      "class TransformationEstimationPointToPoint(TransformationEstimation)\n",
      " |  Class to estimate a transformation for point to point distance.\n",
      " |  \n",
      " |  Method resolution order:\n",
      " |      TransformationEstimationPointToPoint\n",
      " |      TransformationEstimation\n",
      " |      pybind11_builtins.pybind11_object\n",
      " |      builtins.object\n",
      " |  \n",
      " |  Methods defined here:\n",
      " |  \n",
      " |  __copy__(...)\n",
      " |      __copy__(self: open3d.open3d.registration.TransformationEstimationPointToPoint) -> open3d.open3d.registration.TransformationEstimationPointToPoint\n",
      " |  \n",
      " |  __deepcopy__(...)\n",
      " |      __deepcopy__(self: open3d.open3d.registration.TransformationEstimationPointToPoint, arg0: dict) -> open3d.open3d.registration.TransformationEstimationPointToPoint\n",
      " |  \n",
      " |  __init__(...)\n",
      " |      __init__(*args, **kwargs)\n",
      " |      Overloaded function.\n",
      " |      \n",
      " |      1. __init__(self: open3d.open3d.registration.TransformationEstimationPointToPoint, arg0: open3d.open3d.registration.TransformationEstimationPointToPoint) -> None\n",
      " |      \n",
      " |      Copy constructor\n",
      " |      \n",
      " |      2. __init__(self: open3d.open3d.registration.TransformationEstimationPointToPoint, with_scaling: bool = False) -> None\n",
      " |  \n",
      " |  __repr__(...)\n",
      " |      __repr__(self: open3d.open3d.registration.TransformationEstimationPointToPoint) -> str\n",
      " |  \n",
      " |  ----------------------------------------------------------------------\n",
      " |  Data descriptors defined here:\n",
      " |  \n",
      " |  with_scaling\n",
      " |      Set to ``True`` to estimate scaling, ``False`` to force\n",
      " |      scaling to be ``1``.\n",
      " |      \n",
      " |      The homogeneous transformation is given by\n",
      " |      \n",
      " |      :math:`T = \\begin{bmatrix} c\\mathbf{R} & \\mathbf{t} \\\\ \\mathbf{0} & 1 \\end{bmatrix}`\n",
      " |      \n",
      " |      Sets :math:`c = 1` if ``with_scaling`` is ``False``.\n",
      " |  \n",
      " |  ----------------------------------------------------------------------\n",
      " |  Methods inherited from TransformationEstimation:\n",
      " |  \n",
      " |  compute_rmse(...)\n",
      " |      compute_rmse(self, source, target, corres)\n",
      " |      \n",
      " |      Compute RMSE between source and target points cloud given correspondences.\n",
      " |      \n",
      " |      Args:\n",
      " |          source (open3d.geometry.PointCloud): Source point cloud.\n",
      " |          target (open3d.geometry.PointCloud): Target point cloud.\n",
      " |          corres (open3d.utility.Vector2iVector): Correspondence set between source and target point cloud.\n",
      " |      \n",
      " |      Returns:\n",
      " |          float\n",
      " |  \n",
      " |  compute_transformation(...)\n",
      " |      compute_transformation(self, source, target, corres)\n",
      " |      \n",
      " |      Compute transformation from source to target point cloud given correspondences.\n",
      " |      \n",
      " |      Args:\n",
      " |          source (open3d.geometry.PointCloud): Source point cloud.\n",
      " |          target (open3d.geometry.PointCloud): Target point cloud.\n",
      " |          corres (open3d.utility.Vector2iVector): Correspondence set between source and target point cloud.\n",
      " |      \n",
      " |      Returns:\n",
      " |          numpy.ndarray[float64[4, 4]]\n",
      " |  \n",
      " |  ----------------------------------------------------------------------\n",
      " |  Methods inherited from pybind11_builtins.pybind11_object:\n",
      " |  \n",
      " |  __new__(*args, **kwargs) from pybind11_builtins.pybind11_type\n",
      " |      Create and return a new object.  See help(type) for accurate signature.\n",
      "\n"
     ]
    }
   ],
   "source": [
    "help(o3d.registration.TransformationEstimationPointToPoint)"
   ]
  },
  {
   "cell_type": "code",
   "execution_count": 10,
   "metadata": {},
   "outputs": [
    {
     "name": "stdout",
     "output_type": "stream",
     "text": [
      "[[-9.99250894e-01  3.86682045e-02  1.55618053e-03  1.81261269e+00]\n",
      " [ 2.17521618e-02  5.27944595e-01  8.49000205e-01 -1.11115109e+00]\n",
      " [ 3.20077364e-02  8.48398064e-01 -5.28390225e-01  4.49769626e+00]\n",
      " [ 0.00000000e+00  0.00000000e+00  0.00000000e+00  1.00000000e+00]]\n"
     ]
    }
   ],
   "source": [
    "p2p = o3d.registration.TransformationEstimationPointToPoint()\n",
    "init_transform = p2p.compute_transformation(source_pcd, target, correspondences)\n",
    "print(init_transform)"
   ]
  },
  {
   "cell_type": "markdown",
   "metadata": {},
   "source": [
    "\n"
   ]
  },
  {
   "cell_type": "code",
   "execution_count": 11,
   "metadata": {},
   "outputs": [],
   "source": [
    "def draw_registration_result(source, target, transformation):\n",
    "    source_temp = copy.deepcopy(source)\n",
    "    source_temp.transform(transformation)\n",
    "    o3d.visualization.draw_geometries([source_temp, target])"
   ]
  },
  {
   "cell_type": "markdown",
   "metadata": {},
   "source": [
    "\n"
   ]
  },
  {
   "cell_type": "code",
   "execution_count": 12,
   "metadata": {},
   "outputs": [],
   "source": [
    "draw_registration_result(source_pcd, target, init_transform)"
   ]
  },
  {
   "cell_type": "code",
   "execution_count": 224,
   "metadata": {
    "scrolled": true
   },
   "outputs": [
    {
     "name": "stdout",
     "output_type": "stream",
     "text": [
      "[[-0.99879802  0.04861176  0.00627801  1.80355423]\n",
      " [ 0.03132713  0.53459318  0.84452871 -1.09027537]\n",
      " [ 0.03769785  0.84371028 -0.53547347  4.49124158]\n",
      " [ 0.          0.          0.          1.        ]]\n"
     ]
    }
   ],
   "source": [
    "threshold = 0.02\n",
    "reg_p2p = o3d.registration.registration_icp(\n",
    "        source_pcd, target, threshold, init_transform,\n",
    "        o3d.registration.TransformationEstimationPointToPoint())\n",
    "print(reg_p2p.transformation)\n",
    "\n",
    "draw_registration_result(source_pcd, target, reg_p2p.transformation)"
   ]
  },
  {
   "cell_type": "code",
   "execution_count": 225,
   "metadata": {},
   "outputs": [
    {
     "data": {
      "text/plain": [
       "True"
      ]
     },
     "execution_count": 225,
     "metadata": {},
     "output_type": "execute_result"
    }
   ],
   "source": [
    "source_temp = copy.deepcopy(source_pcd)\n",
    "source_temp.transform(reg_p2p.transformation)\n",
    "o3d.io.write_point_cloud(\"tfed_model.pcd\", source_temp)"
   ]
  },
  {
   "cell_type": "code",
   "execution_count": 226,
   "metadata": {},
   "outputs": [],
   "source": [
    "from pyquaternion import Quaternion\n",
    "\n",
    "def matrix2qua(matrix):\n",
    "    qua = Quaternion(matrix=matrix[0:3, 0:3])\n",
    "    return qua.elements\n",
    "\n",
    "\n",
    "def matrix2trans(matrix):\n",
    "    return np.array(matrix[:3, 3:].transpose())[0]\n",
    "\n",
    "\n",
    "def matrix2pose(matrix):\n",
    "    qua = matrix2qua(matrix)\n",
    "    translation = matrix2trans(matrix)\n",
    "    return np.hstack((translation, qua))"
   ]
  },
  {
   "cell_type": "code",
   "execution_count": 338,
   "metadata": {},
   "outputs": [
    {
     "name": "stdout",
     "output_type": "stream",
     "text": [
      "[[-0.99879802  0.04861176  0.00627801  1.80355423]\n",
      " [ 0.03132713  0.53459318  0.84452871 -1.09027537]\n",
      " [ 0.03769785  0.84371028 -0.53547347  4.49124158]\n",
      " [ 0.          0.          0.          1.        ]]\n",
      "\n",
      "[ 1.80355423 -1.09027537  4.49124158 -0.00896778  0.02281599  0.87590877\n",
      "  0.48185355]\n",
      "\n",
      "[[-0.99879802  0.04861176  0.00627801]\n",
      " [ 0.03132713  0.53459318  0.84452871]\n",
      " [ 0.03769785  0.84371028 -0.53547347]]\n",
      "\n",
      "[ 1.80355423 -1.09027537  4.49124158]\n"
     ]
    }
   ],
   "source": [
    "print(reg_p2p.transformation)\n",
    "print(\"\")\n",
    "print(matrix2pose(reg_p2p.transformation))\n",
    "print(\"\")\n",
    "\n",
    "rotation = reg_p2p.transformation[:3, :3]\n",
    "translation = reg_p2p.transformation[:3, 3:].transpose()[0]\n",
    "print(rotation)\n",
    "print(\"\")\n",
    "print(translation)"
   ]
  },
  {
   "cell_type": "code",
   "execution_count": 272,
   "metadata": {
    "scrolled": true
   },
   "outputs": [
    {
     "name": "stdout",
     "output_type": "stream",
     "text": [
      "[0.275 0.021 0.44 ]\n",
      "<class 'numpy.ndarray'>\n",
      "[0.275 0.321 0.54 ]\n",
      "<class 'numpy.ndarray'>\n"
     ]
    }
   ],
   "source": [
    "l,w,h = [0.6, 0.4, 0.2]\n",
    "\n",
    "front_bottom = np.array([0.275, 0.021, 0.44])\n",
    "back_bottom = np.array([0.275, 0.621, 0.44])\n",
    "\n",
    "center_in_model = (front_in_model + back_in_model) / 2 + np.array([0,0,h/2])\n",
    "\n",
    "points_in_model = [\n",
    "    front_bottom,                           # ref pt\n",
    "    back_bottom,                            # pt to x\n",
    "    front_bottom + np.array([-w/2, 0, 0]),  # pt to y\n",
    "    front_bottom + np.array([0, 0, h])      # pt to z\n",
    "]"
   ]
  },
  {
   "cell_type": "code",
   "execution_count": 339,
   "metadata": {},
   "outputs": [],
   "source": [
    "def calculate_rotation_matrix(points):\n",
    "    x_axis = points[1] - points[0]\n",
    "    x_axis = x_axis / np.linalg.norm(x_axis)\n",
    "\n",
    "    y_axis = points[2] - points[0]\n",
    "    y_axis = y_axis / np.linalg.norm(y_axis)\n",
    "\n",
    "    z_axis = points[3] - points[0]\n",
    "    z_axis = z_axis / np.linalg.norm(z_axis)\n",
    "    \n",
    "    return np.vstack((x_axis, y_axis, z_axis)).transpose()\n",
    "\n",
    "\n",
    "def calculate_transform_matrix(center, points):\n",
    "    rotation_matrix = calculate_rotation_matrix(points)\n",
    "    transform_matrix = np.hstack((rotation_matrix, np.array([center]).transpose()))\n",
    "    transform_matrix = np.vstack((transform_matrix, np.mat([[0, 0, 0, 1]])))\n",
    "    \n",
    "    return transform_matrix"
   ]
  },
  {
   "cell_type": "code",
   "execution_count": 316,
   "metadata": {
    "scrolled": true
   },
   "outputs": [
    {
     "name": "stdout",
     "output_type": "stream",
     "text": [
      "[[ 0.    -1.     0.     0.275]\n",
      " [ 1.     0.     0.     0.321]\n",
      " [ 0.     0.     1.     0.54 ]\n",
      " [ 0.     0.     0.     1.   ]]\n",
      "[0.275      0.321      0.54       0.70710678 0.         0.\n",
      " 0.70710678]\n",
      "\n",
      "[[-0.03132713 -0.53459318 -0.84452871  1.36527537]\n",
      " [-0.99879802  0.04861176  0.00627801  2.12455423]\n",
      " [ 0.03769785  0.84371028 -0.53547347  5.03124158]\n",
      " [ 0.          0.          0.          1.        ]]\n",
      "[ 1.36527537  2.12455423  5.03124158 -0.34706309 -0.60322769  0.63549437\n",
      "  0.33438073]\n",
      "\n"
     ]
    }
   ],
   "source": [
    "compartment_matrix_in_model = calculate_matrix(center_in_model, points_in_model)\n",
    "compartment_pose_in_model = matrix2pose(compartment_matrix_in_model)\n",
    "print(compartment_matrix_in_model)\n",
    "print(compartment_pose_in_model)\n",
    "print(\"\")\n",
    "\n",
    "compartment_matrix_in_cloud = np.dot(compartment_matrix_in_model, reg_p2p.transformation)\n",
    "compartment_pose_in_cloud = matrix2pose(compartment_matrix_in_cloud)\n",
    "print(compartment_matrix_in_cloud)\n",
    "print(compartment_pose_in_cloud)\n",
    "print(\"\")"
   ]
  },
  {
   "cell_type": "code",
   "execution_count": 321,
   "metadata": {},
   "outputs": [
    {
     "name": "stdout",
     "output_type": "stream",
     "text": [
      "[[ 0.03132713  0.99879802  0.03769785  1.55929762]\n",
      " [ 0.53459318 -0.04861176  0.84371028 -0.44969918]\n",
      " [ 0.84452871 -0.00627801 -0.53547347  4.47490608]\n",
      " [ 0.          0.          0.          1.        ]]\n",
      "[ 1.55929762 -0.44969918  4.47490608 -0.33438073  0.63549437  0.60322769\n",
      "  0.34706309]\n",
      "<class 'list'>\n"
     ]
    }
   ],
   "source": [
    "shlef_in_model = [\n",
    "    np.array([0,0,0]),\n",
    "    np.array([0,1,0]),\n",
    "    np.array([-1,0,0]),\n",
    "    np.array([0,0,1])\n",
    "]\n",
    "\n",
    "shlef_in_cloud = []\n",
    "for point in shlef_in_model:\n",
    "    shlef_in_cloud.append(np.dot(point, rotation) + translation)\n",
    "\n",
    "shelf_matrix_in_cloud = calculate_matrix(shlef_in_cloud[0], shlef_in_cloud)\n",
    "shelf_pose_in_cloud = matrix2pose(shelf_matrix_in_cloud)\n",
    "\n",
    "temp_compartment_matrix = np.array(\n",
    "[[1,  0,   0.,  0.321],\n",
    " [ 0, 1,   0. ,    -0.275],\n",
    " [ 0.  ,   0. ,    1.,     0.54 ],\n",
    " [ 0. ,    0. ,    0.,     1.   ]])\n",
    "\n",
    "temp = np.dot(shelf_matrix_in_cloud, temp_compartment_matrix)\n",
    "temp_pose = matrix2pose(temp)\n",
    "print(temp)\n",
    "print(temp_pose)\n",
    "\n",
    "print(type(shlef_in_model))"
   ]
  },
  {
   "cell_type": "code",
   "execution_count": 340,
   "metadata": {},
   "outputs": [
    {
     "name": "stdout",
     "output_type": "stream",
     "text": [
      "[[ 0.03132713  0.99879802  0.03769785  1.55929762]\n",
      " [ 0.53459318 -0.04861176  0.84371028 -0.44969918]\n",
      " [ 0.84452871 -0.00627801 -0.53547347  4.47490608]\n",
      " [ 0.          0.          0.          1.        ]]\n",
      "[ 1.55929762 -0.44969918  4.47490608 -0.33438073  0.63549437  0.60322769\n",
      "  0.34706309]\n"
     ]
    }
   ],
   "source": [
    "shlef_in_model = [\n",
    "    np.array([0,0,0]),\n",
    "    np.array([1,0,0]),\n",
    "    np.array([0,1,0]),\n",
    "    np.array([0,0,1])\n",
    "]\n",
    "\n",
    "shlef_in_cloud = []\n",
    "for point in shlef_in_model:\n",
    "    shlef_in_cloud.append(np.dot(point, rotation) + translation)\n",
    "\n",
    "shelf_matrix_in_cloud = calculate_transform_matrix(shlef_in_cloud[0], shlef_in_cloud)\n",
    "shelf_pose_in_cloud = matrix2pose(shelf_matrix_in_cloud)\n",
    "\n",
    "temp = np.dot(shelf_matrix_in_cloud, compartment_matrix_in_model)\n",
    "temp_pose = matrix2pose(temp)\n",
    "print(temp)\n",
    "print(temp_pose)"
   ]
  },
  {
   "cell_type": "code",
   "execution_count": 275,
   "metadata": {},
   "outputs": [
    {
     "name": "stdout",
     "output_type": "stream",
     "text": [
      "[[ 0.03132713  0.99879802  0.03769785  1.55929762]\n",
      " [ 0.53459318 -0.04861176  0.84371028 -0.44969918]\n",
      " [ 0.84452871 -0.00627801 -0.53547347  4.47490608]\n",
      " [ 0.          0.          0.          1.        ]]\n",
      "[ 1.55929762 -0.44969918  4.47490608 -0.33438073  0.63549437  0.60322769\n",
      "  0.34706309]\n"
     ]
    }
   ],
   "source": [
    "center_in_cloud = np.dot(center_in_model, rotation) + translation\n",
    "points_in_cloud = []\n",
    "for point in points_in_model:\n",
    "    points_in_cloud.append(np.dot(point, rotation) + translation)\n",
    "\n",
    "compartment_matrix_in_cloud_directly = calculate_matrix(center_in_cloud, points_in_cloud)\n",
    "compartment_pose_in_cloud_directly = matrix2pose(compartment_matrix_in_cloud_directly)\n",
    "print(compartment_matrix_in_cloud_directly)\n",
    "print(compartment_pose_in_cloud_directly)"
   ]
  }
 ],
 "metadata": {
  "kernelspec": {
   "display_name": "Python 3",
   "language": "python",
   "name": "python3"
  },
  "language_info": {
   "codemirror_mode": {
    "name": "ipython",
    "version": 3
   },
   "file_extension": ".py",
   "mimetype": "text/x-python",
   "name": "python",
   "nbconvert_exporter": "python",
   "pygments_lexer": "ipython3",
   "version": "3.6.10"
  }
 },
 "nbformat": 4,
 "nbformat_minor": 4
}
